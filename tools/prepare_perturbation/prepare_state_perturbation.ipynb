{
 "cells": [
  {
   "cell_type": "code",
   "execution_count": 1,
   "metadata": {},
   "outputs": [],
   "source": [
    "%matplotlib inline\n",
    "\n",
    "import xarray as xr\n",
    "import numpy as np\n",
    "\n",
    "from tonic.io import read_configobj"
   ]
  },
  {
   "cell_type": "code",
   "execution_count": 7,
   "metadata": {},
   "outputs": [],
   "source": [
    "# ================================================ #\n",
    "# Command line arguments\n",
    "# ================================================ #\n",
    "cfg = read_configobj(('cfg/prepare_state_perturbation.ArkRed.sm_pert_0.5.cfg'))"
   ]
  },
  {
   "cell_type": "code",
   "execution_count": 8,
   "metadata": {},
   "outputs": [],
   "source": [
    "# ================================================ #\n",
    "# Extract dimension info\n",
    "# ================================================ #\n",
    "# --- Load VIC param file --- #\n",
    "ds_param = xr.open_dataset(cfg['VIC']['vic_param_nc'])\n",
    "# --- Extract dimension info needed --- #\n",
    "lat_coord = ds_param['lat'].values\n",
    "lon_coord = ds_param['lon'].values\n",
    "nlayer_coord = ds_param['nlayer'].values"
   ]
  },
  {
   "cell_type": "code",
   "execution_count": 9,
   "metadata": {},
   "outputs": [],
   "source": [
    "# ================================================ #\n",
    "# Initialize state perturbation DataArray\n",
    "# ================================================ #\n",
    "da_scale = xr.DataArray(np.zeros([len(nlayer_coord), len(lat_coord), len(lon_coord)]),\n",
    "                        dims=['nlayer', 'lat', 'lon'],\n",
    "                        coords=[nlayer_coord, lat_coord, lon_coord])"
   ]
  },
  {
   "cell_type": "code",
   "execution_count": 11,
   "metadata": {},
   "outputs": [],
   "source": [
    "# ================================================ #\n",
    "# Calculate and/or put perturbation amount into da_scale\n",
    "# The resulting values in da_scale is the standard deviation of perturbation magnitude in [mm]\n",
    "# ================================================ #\n",
    "if cfg['PERTURB']['method'] == 'constant':\n",
    "    list_state_pert_std = cfg['PERTURB']['param']  # one value for each layer\n",
    "    for i in range(len(nlayer_coord)):\n",
    "        da_scale[i, :, :] = list_state_pert_std[i]\n",
    "# Add unit attribute\n",
    "da_scale.attrs['unit'] = 'mm'"
   ]
  },
  {
   "cell_type": "code",
   "execution_count": 13,
   "metadata": {},
   "outputs": [],
   "source": [
    "# ================================================ #\n",
    "# Save da_scale to file\n",
    "# ================================================ #\n",
    "ds_scale = xr.Dataset({'sm_pert_scale': da_scale})\n",
    "ds_scale.to_netcdf(cfg['OUTPUT']['scale_nc'], format='NETCDF4_CLASSIC')"
   ]
  },
  {
   "cell_type": "code",
   "execution_count": null,
   "metadata": {},
   "outputs": [],
   "source": []
  },
  {
   "cell_type": "code",
   "execution_count": null,
   "metadata": {},
   "outputs": [],
   "source": []
  }
 ],
 "metadata": {
  "kernelspec": {
   "display_name": "Python 3",
   "language": "python",
   "name": "python3"
  },
  "language_info": {
   "codemirror_mode": {
    "name": "ipython",
    "version": 3
   },
   "file_extension": ".py",
   "mimetype": "text/x-python",
   "name": "python",
   "nbconvert_exporter": "python",
   "pygments_lexer": "ipython3",
   "version": "3.5.5"
  }
 },
 "nbformat": 4,
 "nbformat_minor": 2
}
