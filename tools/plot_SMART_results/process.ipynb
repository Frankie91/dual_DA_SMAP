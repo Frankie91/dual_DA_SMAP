{
 "cells": [
  {
   "cell_type": "code",
   "execution_count": 2,
   "metadata": {
    "collapsed": true
   },
   "outputs": [],
   "source": [
    "%matplotlib inline"
   ]
  },
  {
   "cell_type": "code",
   "execution_count": 1,
   "metadata": {},
   "outputs": [],
   "source": [
    "import sys\n",
    "import os\n",
    "import pandas as pd\n",
    "import xarray as xr\n",
    "from scipy.io import loadmat\n",
    "import numpy as np\n",
    "import scipy.optimize\n",
    "from sklearn import linear_model\n",
    "\n",
    "import matplotlib\n",
    "matplotlib.use('Agg')\n",
    "import matplotlib.pyplot as plt\n",
    "from bokeh.plotting import figure, output_file, save\n",
    "from bokeh.io import reset_output\n",
    "import bokeh"
   ]
  },
  {
   "cell_type": "code",
   "execution_count": 3,
   "metadata": {
    "collapsed": true
   },
   "outputs": [],
   "source": [
    "# ============================================================ #\n",
    "# Parameters\n",
    "# ============================================================ #\n",
    "start_date = pd.datetime.strptime(\"1980-01-01\", \"%Y-%m-%d\")\n",
    "end_date = pd.datetime.strptime(\"1989-12-31\", \"%Y-%m-%d\")\n",
    "start_year = start_date.year\n",
    "end_year = end_date.year\n",
    "window_size = 3"
   ]
  },
  {
   "cell_type": "code",
   "execution_count": 4,
   "metadata": {},
   "outputs": [
    {
     "name": "stdout",
     "output_type": "stream",
     "text": [
      "Loading data...\n"
     ]
    }
   ],
   "source": [
    "# ============================================================ #\n",
    "# Load original and true prec data\n",
    "# ============================================================ #\n",
    "print('Loading data...')\n",
    "\n",
    "# --- Load original prec (to be corrected) --- #\n",
    "mat_smart_input = 'SMART_input_one_cell.mat'\n",
    "dict_smart_input = loadmat(mat_smart_input)\n",
    "\n",
    "# --- Load original prec --- #\n",
    "prec_orig = dict_smart_input['prec_orig']  # [cell, day]\n",
    "\n",
    "# --- Load true prec --- #\n",
    "prec_true = dict_smart_input['prec_true']  # [cell, day]"
   ]
  },
  {
   "cell_type": "code",
   "execution_count": 5,
   "metadata": {
    "collapsed": true
   },
   "outputs": [],
   "source": [
    "# --- Load SMART-corrected prec ensemble mean --- #\n",
    "mat_prec_corr = './output/SMART_corrected_rainfall.mat'\n",
    "prec_corr = loadmat(mat_prec_corr)['RAIN_SMART_SMOS']  # [window, grid_cell]"
   ]
  },
  {
   "cell_type": "code",
   "execution_count": 6,
   "metadata": {
    "collapsed": true
   },
   "outputs": [],
   "source": [
    "# --- Load lambda --- #\n",
    "mat_lambda = './output/lambda.mat'\n",
    "lambda_fraction = loadmat(mat_lambda)['lambda']"
   ]
  },
  {
   "cell_type": "code",
   "execution_count": 7,
   "metadata": {
    "collapsed": true
   },
   "outputs": [],
   "source": [
    "# --- Load increment sum of API --- #\n",
    "mat_increment = './output/increment_sum.mat'\n",
    "increment_sum = loadmat(mat_increment)['INCREMENT_SUM']  # [window, grid_cell]\n",
    "increment_sum[0, :] = 0"
   ]
  },
  {
   "cell_type": "code",
   "execution_count": 8,
   "metadata": {
    "collapsed": true
   },
   "outputs": [],
   "source": [
    "# ============================================================ #\n",
    "# Aggregate original & true precip. to window size\n",
    "# ============================================================ #\n",
    "# Only keep complete windows\n",
    "n_windows = len(prec_corr)\n",
    "prec_orig = prec_orig[:, :(n_windows*window_size)]\n",
    "prec_true = prec_true[:, :(n_windows*window_size)]"
   ]
  },
  {
   "cell_type": "code",
   "execution_count": 34,
   "metadata": {
    "collapsed": true
   },
   "outputs": [],
   "source": [
    "# Aggregate windows\n",
    "ncell = len(prec_orig)\n",
    "prec_orig_window = prec_orig.reshape(\n",
    "    [ncell, n_windows, window_size]).sum(axis=2)  # [cell, window]\n",
    "prec_true_window = prec_true.reshape(\n",
    "    [ncell, n_windows, window_size]).sum(axis=2)  # [cell, window]"
   ]
  },
  {
   "cell_type": "code",
   "execution_count": 35,
   "metadata": {},
   "outputs": [],
   "source": [
    "import pandas as pd\n",
    "df_to_output = pd.DataFrame(index=range(1, len(prec_orig_window.squeeze())+1),\n",
    "                            columns=['rainfall_error', 'rainfall', 'API_error'])\n",
    "df_to_output['rainfall'] = prec_orig_window.squeeze()\n",
    "df_to_output['rainfall_error'] = prec_orig_window.squeeze() - prec_true_window.squeeze()\n",
    "df_to_output['API_error'] = - increment_sum.squeeze()\n",
    "df_to_output.to_csv('C:/Users/Mao/Dropbox/courses/STAT504/homework/hw2/scripts/project_data.csv')"
   ]
  },
  {
   "cell_type": "code",
   "execution_count": 32,
   "metadata": {},
   "outputs": [
    {
     "data": {
      "text/html": [
       "<div>\n",
       "<style>\n",
       "    .dataframe thead tr:only-child th {\n",
       "        text-align: right;\n",
       "    }\n",
       "\n",
       "    .dataframe thead th {\n",
       "        text-align: left;\n",
       "    }\n",
       "\n",
       "    .dataframe tbody tr th {\n",
       "        vertical-align: top;\n",
       "    }\n",
       "</style>\n",
       "<table border=\"1\" class=\"dataframe\">\n",
       "  <thead>\n",
       "    <tr style=\"text-align: right;\">\n",
       "      <th></th>\n",
       "      <th>rainfall_error</th>\n",
       "      <th>rainfall</th>\n",
       "      <th>API_error</th>\n",
       "    </tr>\n",
       "  </thead>\n",
       "  <tbody>\n",
       "    <tr>\n",
       "      <th>1</th>\n",
       "      <td>-6.022150</td>\n",
       "      <td>5.759200</td>\n",
       "      <td>0.000000</td>\n",
       "    </tr>\n",
       "    <tr>\n",
       "      <th>2</th>\n",
       "      <td>0.000000</td>\n",
       "      <td>0.000000</td>\n",
       "      <td>3.904344</td>\n",
       "    </tr>\n",
       "    <tr>\n",
       "      <th>3</th>\n",
       "      <td>-0.120512</td>\n",
       "      <td>0.500000</td>\n",
       "      <td>6.581160</td>\n",
       "    </tr>\n",
       "    <tr>\n",
       "      <th>4</th>\n",
       "      <td>-7.482155</td>\n",
       "      <td>4.932000</td>\n",
       "      <td>3.344236</td>\n",
       "    </tr>\n",
       "    <tr>\n",
       "      <th>5</th>\n",
       "      <td>0.000000</td>\n",
       "      <td>0.000000</td>\n",
       "      <td>-0.679566</td>\n",
       "    </tr>\n",
       "    <tr>\n",
       "      <th>6</th>\n",
       "      <td>-0.869945</td>\n",
       "      <td>3.432800</td>\n",
       "      <td>-0.839012</td>\n",
       "    </tr>\n",
       "    <tr>\n",
       "      <th>7</th>\n",
       "      <td>-6.223317</td>\n",
       "      <td>27.492000</td>\n",
       "      <td>3.520448</td>\n",
       "    </tr>\n",
       "    <tr>\n",
       "      <th>8</th>\n",
       "      <td>2.709451</td>\n",
       "      <td>11.321600</td>\n",
       "      <td>-4.201508</td>\n",
       "    </tr>\n",
       "    <tr>\n",
       "      <th>9</th>\n",
       "      <td>0.000000</td>\n",
       "      <td>0.000000</td>\n",
       "      <td>-3.635934</td>\n",
       "    </tr>\n",
       "    <tr>\n",
       "      <th>10</th>\n",
       "      <td>-0.297785</td>\n",
       "      <td>3.567200</td>\n",
       "      <td>0.566213</td>\n",
       "    </tr>\n",
       "    <tr>\n",
       "      <th>11</th>\n",
       "      <td>0.000000</td>\n",
       "      <td>0.000000</td>\n",
       "      <td>3.531372</td>\n",
       "    </tr>\n",
       "    <tr>\n",
       "      <th>12</th>\n",
       "      <td>0.687367</td>\n",
       "      <td>0.931200</td>\n",
       "      <td>-0.543816</td>\n",
       "    </tr>\n",
       "    <tr>\n",
       "      <th>13</th>\n",
       "      <td>18.786652</td>\n",
       "      <td>22.554400</td>\n",
       "      <td>-18.849350</td>\n",
       "    </tr>\n",
       "    <tr>\n",
       "      <th>14</th>\n",
       "      <td>3.824087</td>\n",
       "      <td>31.335201</td>\n",
       "      <td>-28.865501</td>\n",
       "    </tr>\n",
       "    <tr>\n",
       "      <th>15</th>\n",
       "      <td>0.000000</td>\n",
       "      <td>0.000000</td>\n",
       "      <td>12.408457</td>\n",
       "    </tr>\n",
       "    <tr>\n",
       "      <th>16</th>\n",
       "      <td>0.066325</td>\n",
       "      <td>0.152000</td>\n",
       "      <td>1.811398</td>\n",
       "    </tr>\n",
       "    <tr>\n",
       "      <th>17</th>\n",
       "      <td>0.000000</td>\n",
       "      <td>0.000000</td>\n",
       "      <td>-0.160584</td>\n",
       "    </tr>\n",
       "    <tr>\n",
       "      <th>18</th>\n",
       "      <td>0.000000</td>\n",
       "      <td>0.000000</td>\n",
       "      <td>-0.055727</td>\n",
       "    </tr>\n",
       "    <tr>\n",
       "      <th>19</th>\n",
       "      <td>0.000000</td>\n",
       "      <td>0.000000</td>\n",
       "      <td>0.214454</td>\n",
       "    </tr>\n",
       "    <tr>\n",
       "      <th>20</th>\n",
       "      <td>-3.812928</td>\n",
       "      <td>0.764000</td>\n",
       "      <td>0.162748</td>\n",
       "    </tr>\n",
       "    <tr>\n",
       "      <th>21</th>\n",
       "      <td>-2.137709</td>\n",
       "      <td>1.987200</td>\n",
       "      <td>9.802153</td>\n",
       "    </tr>\n",
       "    <tr>\n",
       "      <th>22</th>\n",
       "      <td>0.000000</td>\n",
       "      <td>0.000000</td>\n",
       "      <td>1.649489</td>\n",
       "    </tr>\n",
       "    <tr>\n",
       "      <th>23</th>\n",
       "      <td>0.000000</td>\n",
       "      <td>0.000000</td>\n",
       "      <td>0.468599</td>\n",
       "    </tr>\n",
       "    <tr>\n",
       "      <th>24</th>\n",
       "      <td>-2.229752</td>\n",
       "      <td>3.624800</td>\n",
       "      <td>0.768854</td>\n",
       "    </tr>\n",
       "    <tr>\n",
       "      <th>25</th>\n",
       "      <td>0.000000</td>\n",
       "      <td>0.000000</td>\n",
       "      <td>4.792741</td>\n",
       "    </tr>\n",
       "    <tr>\n",
       "      <th>26</th>\n",
       "      <td>-1.018159</td>\n",
       "      <td>4.415200</td>\n",
       "      <td>-0.788927</td>\n",
       "    </tr>\n",
       "    <tr>\n",
       "      <th>27</th>\n",
       "      <td>0.000000</td>\n",
       "      <td>0.000000</td>\n",
       "      <td>4.235880</td>\n",
       "    </tr>\n",
       "    <tr>\n",
       "      <th>28</th>\n",
       "      <td>-4.871626</td>\n",
       "      <td>15.443201</td>\n",
       "      <td>18.941822</td>\n",
       "    </tr>\n",
       "    <tr>\n",
       "      <th>29</th>\n",
       "      <td>-0.070361</td>\n",
       "      <td>3.023200</td>\n",
       "      <td>5.384724</td>\n",
       "    </tr>\n",
       "    <tr>\n",
       "      <th>30</th>\n",
       "      <td>2.629914</td>\n",
       "      <td>4.912000</td>\n",
       "      <td>4.342891</td>\n",
       "    </tr>\n",
       "    <tr>\n",
       "      <th>...</th>\n",
       "      <td>...</td>\n",
       "      <td>...</td>\n",
       "      <td>...</td>\n",
       "    </tr>\n",
       "    <tr>\n",
       "      <th>1188</th>\n",
       "      <td>0.000000</td>\n",
       "      <td>0.000000</td>\n",
       "      <td>0.633487</td>\n",
       "    </tr>\n",
       "    <tr>\n",
       "      <th>1189</th>\n",
       "      <td>1.628420</td>\n",
       "      <td>1.956800</td>\n",
       "      <td>-0.895526</td>\n",
       "    </tr>\n",
       "    <tr>\n",
       "      <th>1190</th>\n",
       "      <td>0.000000</td>\n",
       "      <td>0.000000</td>\n",
       "      <td>0.783575</td>\n",
       "    </tr>\n",
       "    <tr>\n",
       "      <th>1191</th>\n",
       "      <td>0.000000</td>\n",
       "      <td>0.000000</td>\n",
       "      <td>-0.067404</td>\n",
       "    </tr>\n",
       "    <tr>\n",
       "      <th>1192</th>\n",
       "      <td>0.000000</td>\n",
       "      <td>0.000000</td>\n",
       "      <td>0.270914</td>\n",
       "    </tr>\n",
       "    <tr>\n",
       "      <th>1193</th>\n",
       "      <td>0.218683</td>\n",
       "      <td>0.599200</td>\n",
       "      <td>-0.498440</td>\n",
       "    </tr>\n",
       "    <tr>\n",
       "      <th>1194</th>\n",
       "      <td>0.000000</td>\n",
       "      <td>0.000000</td>\n",
       "      <td>-0.019382</td>\n",
       "    </tr>\n",
       "    <tr>\n",
       "      <th>1195</th>\n",
       "      <td>0.000000</td>\n",
       "      <td>0.000000</td>\n",
       "      <td>0.083611</td>\n",
       "    </tr>\n",
       "    <tr>\n",
       "      <th>1196</th>\n",
       "      <td>0.000000</td>\n",
       "      <td>0.000000</td>\n",
       "      <td>-0.004991</td>\n",
       "    </tr>\n",
       "    <tr>\n",
       "      <th>1197</th>\n",
       "      <td>-1.830738</td>\n",
       "      <td>12.018400</td>\n",
       "      <td>-9.161473</td>\n",
       "    </tr>\n",
       "    <tr>\n",
       "      <th>1198</th>\n",
       "      <td>0.000000</td>\n",
       "      <td>0.000000</td>\n",
       "      <td>-1.019073</td>\n",
       "    </tr>\n",
       "    <tr>\n",
       "      <th>1199</th>\n",
       "      <td>0.000000</td>\n",
       "      <td>0.000000</td>\n",
       "      <td>0.063270</td>\n",
       "    </tr>\n",
       "    <tr>\n",
       "      <th>1200</th>\n",
       "      <td>0.000000</td>\n",
       "      <td>0.000000</td>\n",
       "      <td>0.032340</td>\n",
       "    </tr>\n",
       "    <tr>\n",
       "      <th>1201</th>\n",
       "      <td>0.000000</td>\n",
       "      <td>0.000000</td>\n",
       "      <td>0.001164</td>\n",
       "    </tr>\n",
       "    <tr>\n",
       "      <th>1202</th>\n",
       "      <td>0.000000</td>\n",
       "      <td>0.000000</td>\n",
       "      <td>0.013233</td>\n",
       "    </tr>\n",
       "    <tr>\n",
       "      <th>1203</th>\n",
       "      <td>0.000000</td>\n",
       "      <td>0.000000</td>\n",
       "      <td>0.010203</td>\n",
       "    </tr>\n",
       "    <tr>\n",
       "      <th>1204</th>\n",
       "      <td>0.000000</td>\n",
       "      <td>0.000000</td>\n",
       "      <td>0.000489</td>\n",
       "    </tr>\n",
       "    <tr>\n",
       "      <th>1205</th>\n",
       "      <td>1.058556</td>\n",
       "      <td>2.828800</td>\n",
       "      <td>-2.367781</td>\n",
       "    </tr>\n",
       "    <tr>\n",
       "      <th>1206</th>\n",
       "      <td>0.000000</td>\n",
       "      <td>0.000000</td>\n",
       "      <td>-0.014187</td>\n",
       "    </tr>\n",
       "    <tr>\n",
       "      <th>1207</th>\n",
       "      <td>0.000000</td>\n",
       "      <td>0.000000</td>\n",
       "      <td>0.000680</td>\n",
       "    </tr>\n",
       "    <tr>\n",
       "      <th>1208</th>\n",
       "      <td>0.000000</td>\n",
       "      <td>0.000000</td>\n",
       "      <td>0.000382</td>\n",
       "    </tr>\n",
       "    <tr>\n",
       "      <th>1209</th>\n",
       "      <td>0.000000</td>\n",
       "      <td>0.000000</td>\n",
       "      <td>-0.000158</td>\n",
       "    </tr>\n",
       "    <tr>\n",
       "      <th>1210</th>\n",
       "      <td>-4.040771</td>\n",
       "      <td>5.058400</td>\n",
       "      <td>-3.680497</td>\n",
       "    </tr>\n",
       "    <tr>\n",
       "      <th>1211</th>\n",
       "      <td>0.000000</td>\n",
       "      <td>0.000000</td>\n",
       "      <td>2.485731</td>\n",
       "    </tr>\n",
       "    <tr>\n",
       "      <th>1212</th>\n",
       "      <td>0.000000</td>\n",
       "      <td>0.000000</td>\n",
       "      <td>1.837397</td>\n",
       "    </tr>\n",
       "    <tr>\n",
       "      <th>1213</th>\n",
       "      <td>-0.088413</td>\n",
       "      <td>0.234400</td>\n",
       "      <td>-0.350692</td>\n",
       "    </tr>\n",
       "    <tr>\n",
       "      <th>1214</th>\n",
       "      <td>0.345789</td>\n",
       "      <td>1.100000</td>\n",
       "      <td>7.464190</td>\n",
       "    </tr>\n",
       "    <tr>\n",
       "      <th>1215</th>\n",
       "      <td>0.000000</td>\n",
       "      <td>0.000000</td>\n",
       "      <td>11.544042</td>\n",
       "    </tr>\n",
       "    <tr>\n",
       "      <th>1216</th>\n",
       "      <td>0.000000</td>\n",
       "      <td>0.000000</td>\n",
       "      <td>4.997606</td>\n",
       "    </tr>\n",
       "    <tr>\n",
       "      <th>1217</th>\n",
       "      <td>0.000000</td>\n",
       "      <td>0.000000</td>\n",
       "      <td>3.130766</td>\n",
       "    </tr>\n",
       "  </tbody>\n",
       "</table>\n",
       "<p>1217 rows × 3 columns</p>\n",
       "</div>"
      ],
      "text/plain": [
       "      rainfall_error   rainfall  API_error\n",
       "1          -6.022150   5.759200   0.000000\n",
       "2           0.000000   0.000000   3.904344\n",
       "3          -0.120512   0.500000   6.581160\n",
       "4          -7.482155   4.932000   3.344236\n",
       "5           0.000000   0.000000  -0.679566\n",
       "6          -0.869945   3.432800  -0.839012\n",
       "7          -6.223317  27.492000   3.520448\n",
       "8           2.709451  11.321600  -4.201508\n",
       "9           0.000000   0.000000  -3.635934\n",
       "10         -0.297785   3.567200   0.566213\n",
       "11          0.000000   0.000000   3.531372\n",
       "12          0.687367   0.931200  -0.543816\n",
       "13         18.786652  22.554400 -18.849350\n",
       "14          3.824087  31.335201 -28.865501\n",
       "15          0.000000   0.000000  12.408457\n",
       "16          0.066325   0.152000   1.811398\n",
       "17          0.000000   0.000000  -0.160584\n",
       "18          0.000000   0.000000  -0.055727\n",
       "19          0.000000   0.000000   0.214454\n",
       "20         -3.812928   0.764000   0.162748\n",
       "21         -2.137709   1.987200   9.802153\n",
       "22          0.000000   0.000000   1.649489\n",
       "23          0.000000   0.000000   0.468599\n",
       "24         -2.229752   3.624800   0.768854\n",
       "25          0.000000   0.000000   4.792741\n",
       "26         -1.018159   4.415200  -0.788927\n",
       "27          0.000000   0.000000   4.235880\n",
       "28         -4.871626  15.443201  18.941822\n",
       "29         -0.070361   3.023200   5.384724\n",
       "30          2.629914   4.912000   4.342891\n",
       "...              ...        ...        ...\n",
       "1188        0.000000   0.000000   0.633487\n",
       "1189        1.628420   1.956800  -0.895526\n",
       "1190        0.000000   0.000000   0.783575\n",
       "1191        0.000000   0.000000  -0.067404\n",
       "1192        0.000000   0.000000   0.270914\n",
       "1193        0.218683   0.599200  -0.498440\n",
       "1194        0.000000   0.000000  -0.019382\n",
       "1195        0.000000   0.000000   0.083611\n",
       "1196        0.000000   0.000000  -0.004991\n",
       "1197       -1.830738  12.018400  -9.161473\n",
       "1198        0.000000   0.000000  -1.019073\n",
       "1199        0.000000   0.000000   0.063270\n",
       "1200        0.000000   0.000000   0.032340\n",
       "1201        0.000000   0.000000   0.001164\n",
       "1202        0.000000   0.000000   0.013233\n",
       "1203        0.000000   0.000000   0.010203\n",
       "1204        0.000000   0.000000   0.000489\n",
       "1205        1.058556   2.828800  -2.367781\n",
       "1206        0.000000   0.000000  -0.014187\n",
       "1207        0.000000   0.000000   0.000680\n",
       "1208        0.000000   0.000000   0.000382\n",
       "1209        0.000000   0.000000  -0.000158\n",
       "1210       -4.040771   5.058400  -3.680497\n",
       "1211        0.000000   0.000000   2.485731\n",
       "1212        0.000000   0.000000   1.837397\n",
       "1213       -0.088413   0.234400  -0.350692\n",
       "1214        0.345789   1.100000   7.464190\n",
       "1215        0.000000   0.000000  11.544042\n",
       "1216        0.000000   0.000000   4.997606\n",
       "1217        0.000000   0.000000   3.130766\n",
       "\n",
       "[1217 rows x 3 columns]"
      ]
     },
     "execution_count": 32,
     "metadata": {},
     "output_type": "execute_result"
    }
   ],
   "source": []
  },
  {
   "cell_type": "code",
   "execution_count": null,
   "metadata": {
    "collapsed": true
   },
   "outputs": [],
   "source": []
  },
  {
   "cell_type": "code",
   "execution_count": 10,
   "metadata": {},
   "outputs": [
    {
     "data": {
      "text/plain": [
       "<matplotlib.legend.Legend at 0x22c917239b0>"
      ]
     },
     "execution_count": 10,
     "metadata": {},
     "output_type": "execute_result"
    },
    {
     "data": {
      "image/png": "[encoded data removed]",
      "text/plain": [
       "<matplotlib.figure.Figure at 0x22c9150c630>"
      ]
     },
     "metadata": {},
     "output_type": "display_data"
    }
   ],
   "source": [
    "plt.figure(figsize=(10, 5))\n",
    "plt.plot(prec_orig_window[0, :100], color='lime', label='Original')\n",
    "plt.plot(prec_true_window[0, :100], color='black', label='True')\n",
    "plt.plot(prec_corr[:100, 0], color='blue', label='Corrected')\n",
    "plt.xlabel('Window', fontsize=16)\n",
    "plt.ylabel('Precipitation (mm)', fontsize=16)\n",
    "plt.legend()"
   ]
  },
  {
   "cell_type": "markdown",
   "metadata": {},
   "source": [
    "# Separate training and validation periods"
   ]
  },
  {
   "cell_type": "code",
   "execution_count": 68,
   "metadata": {
    "collapsed": true
   },
   "outputs": [],
   "source": [
    "# Divide all windows into training and validation sets (7:3, in order)\n",
    "n_train = int(n_windows * 0.7)\n",
    "n_vali = n_windows - n_train\n",
    "prec_orig_window_train = prec_orig_window[0, :n_train]\n",
    "prec_orig_window_vali = prec_orig_window[0, n_train:]\n",
    "prec_true_window_train = prec_true_window[0, :n_train]\n",
    "prec_true_window_vali = prec_true_window[0, n_train:]\n",
    "increment_sum_train = increment_sum[:n_train, 0]\n",
    "increment_sum_vali = increment_sum[n_train:, 0]"
   ]
  },
  {
   "cell_type": "markdown",
   "metadata": {},
   "source": [
    "# Method 1 - tune lambda to truth (same as in SMART but on training set)"
   ]
  },
  {
   "cell_type": "code",
   "execution_count": 80,
   "metadata": {},
   "outputs": [
    {
     "name": "stdout",
     "output_type": "stream",
     "text": [
      "Optimized fraction:  0.733730609688\n"
     ]
    }
   ],
   "source": [
    "# --- Optimize lambda on the training set --- #\n",
    "optimized_fraction = scipy.optimize.fminbound(\n",
    "    func=fraction_tune,\n",
    "    x1=0.01, x2=2.0,\n",
    "#    args=(prec_true_window[0, :], prec_orig_window[0, :], increment_sum[:, 0]))\n",
    "    args=(prec_true_window_train, prec_orig_window_train, increment_sum_train))\n",
    "print('Optimized fraction: ', optimized_fraction)"
   ]
  },
  {
   "cell_type": "code",
   "execution_count": 86,
   "metadata": {
    "collapsed": true
   },
   "outputs": [],
   "source": [
    "# --- Use lambda to calculate corrected rainfall for training and validation sets --- #\n",
    "prec_corr_train_method1 = prec_orig_window_train + optimized_fraction * increment_sum_train\n",
    "prec_corr_train_method1[prec_corr_train_method1<0] = 0\n",
    "prec_corr_vali_method1 = prec_orig_window_vali + optimized_fraction * increment_sum_vali\n",
    "prec_corr_vali_method1[prec_corr_vali_method1<0] = 0"
   ]
  },
  {
   "cell_type": "code",
   "execution_count": 93,
   "metadata": {},
   "outputs": [
    {
     "name": "stdout",
     "output_type": "stream",
     "text": [
      "Training set: RMSE(orig) = 13.66, RMSE(corrected) = 11.55\n",
      "Validation set: RMSE(orig) = 13.67, RMSE(corrected) = 12.61\n"
     ]
    }
   ],
   "source": [
    "# --- Calculate statistics --- #\n",
    "# RMSE\n",
    "rmse_orig_train = rmse(prec_orig_window_train, prec_true_window_train)\n",
    "rmse_corr_train = rmse(prec_corr_train_method1, prec_true_window_train)\n",
    "rmse_orig_vali = rmse(prec_orig_window_vali, prec_true_window_vali)\n",
    "rmse_corr_vali = rmse(prec_corr_vali_method1, prec_true_window_vali)\n",
    "print(\"Training set: RMSE(orig) = {:.2f}, RMSE(corrected) = {:.2f}\".format(\n",
    "    rmse_orig_train, rmse_corr_train))\n",
    "print(\"Validation set: RMSE(orig) = {:.2f}, RMSE(corrected) = {:.2f}\".format(\n",
    "    rmse_orig_vali, rmse_corr_vali))"
   ]
  },
  {
   "cell_type": "code",
   "execution_count": 98,
   "metadata": {},
   "outputs": [
    {
     "name": "stdout",
     "output_type": "stream",
     "text": [
      "Training set: corrceof(orig) = 0.76, corrceof(corrected) = 0.84\n",
      "Validation set: corrcoef(orig) = 0.79, corrcoef(corrected) = 0.83\n"
     ]
    }
   ],
   "source": [
    "# Correlation coefficient\n",
    "corrcoef_orig_train = np.corrcoef(prec_orig_window_train, prec_true_window_train)[0, 1]\n",
    "corrcoef_corr_train = np.corrcoef(prec_corr_train_method1, prec_true_window_train)[0, 1]\n",
    "corrcoef_orig_vali = np.corrcoef(prec_orig_window_vali, prec_true_window_vali)[0, 1]\n",
    "corrcoef_corr_vali = np.corrcoef(prec_corr_vali_method1, prec_true_window_vali)[0, 1]\n",
    "print(\"Training set: corrceof(orig) = {:.2f}, corrceof(corrected) = {:.2f}\".format(\n",
    "    corrcoef_orig_train, corrcoef_corr_train))\n",
    "print(\"Validation set: corrcoef(orig) = {:.2f}, corrcoef(corrected) = {:.2f}\".format(\n",
    "    corrcoef_orig_vali, corrcoef_corr_vali))"
   ]
  },
  {
   "cell_type": "code",
   "execution_count": 131,
   "metadata": {},
   "outputs": [
    {
     "name": "stdout",
     "output_type": "stream",
     "text": [
      "Floods (true rainfall > 50 mm/window)\n",
      "Training set: RMSE(orig) = 55.35, RMSE(corrected) = 47.69\n",
      "Validation set: RMSE(orig) = 50.15, RMSE(corrected) = 48.61\n"
     ]
    }
   ],
   "source": [
    "# RMSE - floods\n",
    "floods_train = (prec_true_window_train>50)\n",
    "floods_vali = (prec_true_window_vali>50)\n",
    "rmse_orig_train = rmse(prec_orig_window_train[floods_train],\n",
    "                       prec_true_window_train[floods_train])\n",
    "rmse_corr_train = rmse(prec_corr_train_method1[floods_train],\n",
    "                       prec_true_window_train[floods_train])\n",
    "rmse_orig_vali = rmse(prec_orig_window_vali[floods_vali], \n",
    "                      prec_true_window_vali[floods_vali])\n",
    "rmse_corr_vali = rmse(prec_corr_vali_method1[floods_vali],\n",
    "                      prec_true_window_vali[floods_vali])\n",
    "print(\"Floods (true rainfall > 50 mm/window)\")\n",
    "print(\"Training set: RMSE(orig) = {:.2f}, RMSE(corrected) = {:.2f}\".format(\n",
    "    rmse_orig_train, rmse_corr_train))\n",
    "print(\"Validation set: RMSE(orig) = {:.2f}, RMSE(corrected) = {:.2f}\".format(\n",
    "    rmse_orig_vali, rmse_corr_vali))"
   ]
  },
  {
   "cell_type": "markdown",
   "metadata": {},
   "source": [
    "# Method 2 - linear regression of rainfall correction on increment and orig. rainfall"
   ]
  },
  {
   "cell_type": "code",
   "execution_count": 148,
   "metadata": {},
   "outputs": [
    {
     "name": "stdout",
     "output_type": "stream",
     "text": [
      "Intercept = -1.02\n",
      "Coef. for orig. rainfall = 1.12\n",
      "Coef. for increment = 0.76\n"
     ]
    }
   ],
   "source": [
    "# --- Fit linear regression on the training set --- #\n",
    "y_train = prec_true_window_train\n",
    "X_train = np.array([prec_orig_window_train, increment_sum_train]).transpose()\n",
    "regr = linear_model.LinearRegression()\n",
    "regr.fit(X_train, y_train)\n",
    "print('Intercept = {:.2f}'.format(regr.intercept_))\n",
    "print('Coef. for orig. rainfall = {:.2f}'.format(regr.coef_[0]))\n",
    "print('Coef. for increment = {:.2f}'.format(regr.coef_[1]))"
   ]
  },
  {
   "cell_type": "code",
   "execution_count": 149,
   "metadata": {
    "collapsed": true
   },
   "outputs": [],
   "source": [
    "# --- Predict corrected rainfall on both the training and validation sets --- #\n",
    "prec_corr_train_method2 = regr.predict(X_train)\n",
    "prec_corr_train_method2[prec_corr_train_method2<0] = 0\n",
    "X_vali = np.array([prec_orig_window_vali, increment_sum_vali]).transpose()\n",
    "prec_corr_vali_method2 = regr.predict(X_vali)\n",
    "prec_corr_vali_method2[prec_corr_vali_method2<0] = 0"
   ]
  },
  {
   "cell_type": "code",
   "execution_count": 150,
   "metadata": {},
   "outputs": [
    {
     "name": "stdout",
     "output_type": "stream",
     "text": [
      "Training set: RMSE(orig) = 13.66, RMSE(corrected) = 11.34\n",
      "Validation set: RMSE(orig) = 13.67, RMSE(corrected) = 12.22\n"
     ]
    }
   ],
   "source": [
    "# --- Calculate statistics --- #\n",
    "# RMSE\n",
    "rmse_orig_train = rmse(prec_orig_window_train, prec_true_window_train)\n",
    "rmse_corr_train = rmse(prec_corr_train_method2, prec_true_window_train)\n",
    "rmse_orig_vali = rmse(prec_orig_window_vali, prec_true_window_vali)\n",
    "rmse_corr_vali = rmse(prec_corr_vali_method2, prec_true_window_vali)\n",
    "print(\"Training set: RMSE(orig) = {:.2f}, RMSE(corrected) = {:.2f}\".format(\n",
    "    rmse_orig_train, rmse_corr_train))\n",
    "print(\"Validation set: RMSE(orig) = {:.2f}, RMSE(corrected) = {:.2f}\".format(\n",
    "    rmse_orig_vali, rmse_corr_vali))"
   ]
  },
  {
   "cell_type": "code",
   "execution_count": 121,
   "metadata": {},
   "outputs": [
    {
     "name": "stdout",
     "output_type": "stream",
     "text": [
      "Training set: corrceof(orig) = 0.76, corrceof(corrected) = 0.84\n",
      "Validation set: corrcoef(orig) = 0.79, corrcoef(corrected) = 0.83\n"
     ]
    }
   ],
   "source": [
    "# Correlation coefficient\n",
    "corrcoef_orig_train = np.corrcoef(prec_orig_window_train, prec_true_window_train)[0, 1]\n",
    "corrcoef_corr_train = np.corrcoef(prec_corr_train_method2, prec_true_window_train)[0, 1]\n",
    "corrcoef_orig_vali = np.corrcoef(prec_orig_window_vali, prec_true_window_vali)[0, 1]\n",
    "corrcoef_corr_vali = np.corrcoef(prec_corr_vali_method2, prec_true_window_vali)[0, 1]\n",
    "print(\"Training set: corrceof(orig) = {:.2f}, corrceof(corrected) = {:.2f}\".format(\n",
    "    corrcoef_orig_train, corrcoef_corr_train))\n",
    "print(\"Validation set: corrcoef(orig) = {:.2f}, corrcoef(corrected) = {:.2f}\".format(\n",
    "    corrcoef_orig_vali, corrcoef_corr_vali))"
   ]
  },
  {
   "cell_type": "code",
   "execution_count": 151,
   "metadata": {
    "scrolled": false
   },
   "outputs": [
    {
     "name": "stdout",
     "output_type": "stream",
     "text": [
      "Floods (true rainfall > 50 mm/window)\n",
      "Training set: RMSE(orig) = 55.35, RMSE(corrected) = 44.40\n",
      "Validation set: RMSE(orig) = 50.15, RMSE(corrected) = 46.09\n"
     ]
    }
   ],
   "source": [
    "# RMSE - floods\n",
    "floods_train = (prec_true_window_train>50)\n",
    "floods_vali = (prec_true_window_vali>50)\n",
    "rmse_orig_train = rmse(prec_orig_window_train[floods_train],\n",
    "                       prec_true_window_train[floods_train])\n",
    "rmse_corr_train = rmse(prec_corr_train_method2[floods_train],\n",
    "                       prec_true_window_train[floods_train])\n",
    "rmse_orig_vali = rmse(prec_orig_window_vali[floods_vali], \n",
    "                      prec_true_window_vali[floods_vali])\n",
    "rmse_corr_vali = rmse(prec_corr_vali_method2[floods_vali],\n",
    "                      prec_true_window_vali[floods_vali])\n",
    "print(\"Floods (true rainfall > 50 mm/window)\")\n",
    "print(\"Training set: RMSE(orig) = {:.2f}, RMSE(corrected) = {:.2f}\".format(\n",
    "    rmse_orig_train, rmse_corr_train))\n",
    "print(\"Validation set: RMSE(orig) = {:.2f}, RMSE(corrected) = {:.2f}\".format(\n",
    "    rmse_orig_vali, rmse_corr_vali))"
   ]
  },
  {
   "cell_type": "code",
   "execution_count": null,
   "metadata": {
    "collapsed": true
   },
   "outputs": [],
   "source": []
  },
  {
   "cell_type": "code",
   "execution_count": 119,
   "metadata": {},
   "outputs": [
    {
     "data": {
      "text/plain": [
       "<matplotlib.legend.Legend at 0x16ab7c6bb70>"
      ]
     },
     "execution_count": 119,
     "metadata": {},
     "output_type": "execute_result"
    },
    {
     "data": {
      "image/png": "[encoded data removed]",
      "text/plain": [
       "<matplotlib.figure.Figure at 0x16ab7c2aa58>"
      ]
     },
     "metadata": {},
     "output_type": "display_data"
    }
   ],
   "source": [
    "plt.figure(figsize=(10, 5))\n",
    "plt.plot(prec_orig_window_train[:100], color='lime', label='Original')\n",
    "plt.plot(prec_true_window_train[:100], color='black', label='True')\n",
    "plt.plot(prec_corr_train_method2[:100], color='blue', label='Corrected')\n",
    "plt.xlabel('Window', fontsize=16)\n",
    "plt.ylabel('Precipitation (mm)', fontsize=16)\n",
    "plt.legend()"
   ]
  },
  {
   "cell_type": "code",
   "execution_count": 112,
   "metadata": {},
   "outputs": [
    {
     "data": {
      "text/plain": [
       "array([ 1.12410687,  0.75949035])"
      ]
     },
     "execution_count": 112,
     "metadata": {},
     "output_type": "execute_result"
    }
   ],
   "source": [
    "regr.coef_"
   ]
  },
  {
   "cell_type": "code",
   "execution_count": null,
   "metadata": {
    "collapsed": true
   },
   "outputs": [],
   "source": []
  },
  {
   "cell_type": "code",
   "execution_count": null,
   "metadata": {
    "collapsed": true
   },
   "outputs": [],
   "source": []
  },
  {
   "cell_type": "code",
   "execution_count": 67,
   "metadata": {
    "collapsed": true
   },
   "outputs": [],
   "source": [
    "def fraction_tune(fraction, sum_rain, sum_rain_sp, increment_sum):\n",
    "    '''This functions calculates the RMS difference between the independent\n",
    "    rainfall data and the corrected observed rainfall data under a given\n",
    "    lambda\n",
    "    Inputs:\n",
    "        fraction: lambda\n",
    "        sum_rain: independent rainfall time series for each window (to tune against)\n",
    "        sum_rain_sp: observed rainfall time series for each window (to correct)\n",
    "        increment_sum: API increment time series for each window\n",
    "        NOTE: these three time series must have identical time indices (but need\n",
    "        not to be continuous)\n",
    "    Return:\n",
    "        fraction_fit: RMS difference\n",
    "    '''\n",
    "\n",
    "    rain_corrected = sum_rain_sp + (fraction*increment_sum)\n",
    "    rain_corrected[rain_corrected <= 0] = 0\n",
    "    fraction_fit = np.sqrt(np.mean((rain_corrected-sum_rain)**2))\n",
    "    return fraction_fit"
   ]
  },
  {
   "cell_type": "code",
   "execution_count": 88,
   "metadata": {
    "collapsed": true
   },
   "outputs": [],
   "source": [
    "def rmse(true, est):\n",
    "    ''' Calculates RMSE of an estimated variable compared to the truth variable\n",
    "\n",
    "    Parameters\n",
    "    ----------\n",
    "    true: <np.array>\n",
    "        A 1-D array of time series of true values\n",
    "    est: <np.array>\n",
    "        A 1-D array of time series of estimated values (must be the same length of true)\n",
    "\n",
    "    Returns\n",
    "    ----------\n",
    "    rmse: <float>\n",
    "        Root mean square error\n",
    "\n",
    "    Require\n",
    "    ----------\n",
    "    numpy\n",
    "    '''\n",
    "\n",
    "    rmse = np.sqrt(sum((est - true)**2) / len(true))\n",
    "    return rmse"
   ]
  },
  {
   "cell_type": "code",
   "execution_count": null,
   "metadata": {
    "collapsed": true
   },
   "outputs": [],
   "source": []
  }
 ],
 "metadata": {
  "kernelspec": {
   "display_name": "Python 3",
   "language": "python",
   "name": "python3"
  },
  "language_info": {
   "codemirror_mode": {
    "name": "ipython",
    "version": 3
   },
   "file_extension": ".py",
   "mimetype": "text/x-python",
   "name": "python",
   "nbconvert_exporter": "python",
   "pygments_lexer": "ipython3",
   "version": "3.5.5"
  }
 },
 "nbformat": 4,
 "nbformat_minor": 2
}
