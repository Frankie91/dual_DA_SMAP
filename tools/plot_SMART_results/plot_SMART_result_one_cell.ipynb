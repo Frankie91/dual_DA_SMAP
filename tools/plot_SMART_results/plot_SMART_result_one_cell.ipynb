{
 "cells": [
  {
   "cell_type": "code",
   "execution_count": 1,
   "metadata": {
    "collapsed": true
   },
   "outputs": [],
   "source": [
    "%matplotlib inline"
   ]
  },
  {
   "cell_type": "code",
   "execution_count": 2,
   "metadata": {
    "collapsed": false
   },
   "outputs": [
    {
     "name": "stderr",
     "output_type": "stream",
     "text": [
      "/usr/lusers/yixinmao/.conda/envs/vic5/lib/python3.5/site-packages/matplotlib/__init__.py:1401: UserWarning:  This call to matplotlib.use() has no effect\n",
      "because the backend has already been chosen;\n",
      "matplotlib.use() must be called *before* pylab, matplotlib.pyplot,\n",
      "or matplotlib.backends is imported for the first time.\n",
      "\n",
      "  warnings.warn(_use_error_msg)\n"
     ]
    }
   ],
   "source": [
    "import sys\n",
    "import os\n",
    "import pandas as pd\n",
    "import xarray as xr\n",
    "from scipy.io import loadmat\n",
    "import numpy as np\n",
    "\n",
    "import matplotlib\n",
    "matplotlib.use('Agg')\n",
    "import matplotlib.pyplot as plt\n",
    "from bokeh.plotting import figure, output_file, save\n",
    "from bokeh.io import reset_output\n",
    "import bokeh\n",
    "\n",
    "from tonic.io import read_configobj\n",
    "\n",
    "from da_utils import (load_nc_and_concat_var_years, da_2D_to_3D_from_SMART,\n",
    "                      setup_output_dirs, rmse)"
   ]
  },
  {
   "cell_type": "code",
   "execution_count": 3,
   "metadata": {
    "collapsed": false
   },
   "outputs": [],
   "source": [
    "# ============================================================ #\n",
    "# Process command line arguments\n",
    "# Read config file\n",
    "# ============================================================ #\n",
    "cfg = read_configobj(\n",
    "    '/civil/hydro/ymao/data_assim/control/run_SMART/34.6875_-94.9375/EnKS.prec_std_1.with_SM_error.tune_to_truth.Q9.cfg')"
   ]
  },
  {
   "cell_type": "code",
   "execution_count": 5,
   "metadata": {
    "collapsed": false
   },
   "outputs": [],
   "source": [
    "# ============================================================ #\n",
    "# Parameters\n",
    "# ============================================================ #\n",
    "start_date = pd.datetime.strptime(cfg['SMART_RUN']['start_date'], \"%Y-%m-%d\")\n",
    "end_date = pd.datetime.strptime(cfg['SMART_RUN']['end_date'], \"%Y-%m-%d\")\n",
    "start_year = start_date.year\n",
    "end_year = end_date.year\n",
    "window_size = cfg['SMART_RUN']['window_size']"
   ]
  },
  {
   "cell_type": "code",
   "execution_count": 6,
   "metadata": {
    "collapsed": false
   },
   "outputs": [
    {
     "name": "stdout",
     "output_type": "stream",
     "text": [
      "Loading data...\n"
     ]
    }
   ],
   "source": [
    "# ============================================================ #\n",
    "# Load original and true prec data\n",
    "# ============================================================ #\n",
    "print('Loading data...')\n",
    "\n",
    "# --- Load original prec (to be corrected) --- #\n",
    "mat_smart_input = os.path.join(cfg['CONTROL']['root_dir'],\n",
    "                               cfg['OUTPUT']['output_basedir'],\n",
    "                               'prep_SMART', 'SMART_input.mat')\n",
    "dict_smart_input = loadmat(mat_smart_input)\n",
    "\n",
    "# --- Load original prec --- #\n",
    "prec_orig = dict_smart_input['prec_orig']  # [cell, day]\n",
    "\n",
    "# --- Load true prec --- #\n",
    "prec_true = dict_smart_input['prec_true']  # [cell, day]\n",
    "\n",
    "# Load in domain file\n",
    "ds_domain = xr.open_dataset(os.path.join(cfg['CONTROL']['root_dir'],\n",
    "                                         cfg['DOMAIN']['domain_file']))\n",
    "da_mask = ds_domain['mask']"
   ]
  },
  {
   "cell_type": "code",
   "execution_count": 7,
   "metadata": {
    "collapsed": false
   },
   "outputs": [],
   "source": [
    "# --- Load SMART-corrected prec ensemble --- #\n",
    "mat_prec_corr_ens = os.path.join(cfg['CONTROL']['root_dir'],\n",
    "                                 cfg['OUTPUT']['output_basedir'],\n",
    "                                 'run_SMART', 'SMART_corrected_rainfall_ens.mat')\n",
    "prec_corr_ens = loadmat(mat_prec_corr_ens)['RAIN_SMART_SMOS_ENS']  # [window, ens, grid_cell]"
   ]
  },
  {
   "cell_type": "code",
   "execution_count": 8,
   "metadata": {
    "collapsed": false
   },
   "outputs": [],
   "source": [
    "# --- Load SMART-corrected prec ensemble mean --- #\n",
    "mat_prec_corr = os.path.join(cfg['CONTROL']['root_dir'],\n",
    "                                 cfg['OUTPUT']['output_basedir'],\n",
    "                                 'run_SMART', 'SMART_corrected_rainfall.mat')\n",
    "prec_corr = loadmat(mat_prec_corr)['RAIN_SMART_SMOS']  # [window, grid_cell]"
   ]
  },
  {
   "cell_type": "code",
   "execution_count": 9,
   "metadata": {
    "collapsed": false
   },
   "outputs": [],
   "source": [
    "# --- Load lambda --- #\n",
    "mat_lambda = os.path.join(cfg['CONTROL']['root_dir'],\n",
    "                                 cfg['OUTPUT']['output_basedir'],\n",
    "                                 'run_SMART', 'lambda.mat')\n",
    "lambda_fraction = loadmat(mat_lambda)['lambda']"
   ]
  },
  {
   "cell_type": "code",
   "execution_count": 10,
   "metadata": {
    "collapsed": true
   },
   "outputs": [],
   "source": [
    "# --- Load innovation --- #\n",
    "mat_innovation = os.path.join(\n",
    "    cfg['CONTROL']['root_dir'],\n",
    "    cfg['OUTPUT']['output_basedir'],\n",
    "    'run_SMART', 'innovation.mat')\n",
    "innovation = loadmat(mat_innovation)['innovation']"
   ]
  },
  {
   "cell_type": "code",
   "execution_count": 11,
   "metadata": {
    "collapsed": false
   },
   "outputs": [],
   "source": [
    "# ============================================================ #\n",
    "# Aggregate original & true precip. to window size\n",
    "# ============================================================ #\n",
    "# Only keep complete windows\n",
    "n_windows = len(prec_corr_ens)\n",
    "prec_orig = prec_orig[:, :(n_windows*window_size)]\n",
    "prec_true = prec_true[:, :(n_windows*window_size)]"
   ]
  },
  {
   "cell_type": "code",
   "execution_count": 12,
   "metadata": {
    "collapsed": false,
    "scrolled": true
   },
   "outputs": [],
   "source": [
    "# Aggregate windows\n",
    "ncell = len(prec_orig)\n",
    "prec_orig_window = prec_orig.reshape(\n",
    "    [ncell, n_windows, window_size]).sum(axis=2)  # [cell, window]\n",
    "prec_true_window = prec_true.reshape(\n",
    "    [ncell, n_windows, window_size]).sum(axis=2)  # [cell, window]"
   ]
  },
  {
   "cell_type": "code",
   "execution_count": null,
   "metadata": {
    "collapsed": true
   },
   "outputs": [],
   "source": [
    "# ============================================================ #\n",
    "# Just some visual checking\n",
    "# ============================================================ #"
   ]
  },
  {
   "cell_type": "code",
   "execution_count": 22,
   "metadata": {
    "collapsed": true
   },
   "outputs": [],
   "source": [
    "ds_prec_corrected_rescaled = xr.open_dataset(os.path.join(cfg['CONTROL']['root_dir'],\n",
    "                    cfg['OUTPUT']['output_basedir'],\n",
    "                    'post_SMART', 'prec_corrected.1980.nc'))\n",
    "da_prec_corrected_rescaled = ds_prec_corrected_rescaled['prec_corrected']"
   ]
  },
  {
   "cell_type": "code",
   "execution_count": 30,
   "metadata": {
    "collapsed": false
   },
   "outputs": [],
   "source": [
    "da_prec_corrected_rescaled_daily = da_prec_corrected_rescaled.groupby('time.date').sum()"
   ]
  },
  {
   "cell_type": "code",
   "execution_count": 47,
   "metadata": {
    "collapsed": false
   },
   "outputs": [],
   "source": [
    "prec_corrected_rescaled = da_prec_corrected_rescaled_daily.values[:(n_windows*window_size)]\n",
    "prec_corrected_rescaled = prec_corrected_rescaled.reshape(\n",
    "    [n_windows, window_size]).sum(axis=1)"
   ]
  },
  {
   "cell_type": "code",
   "execution_count": 50,
   "metadata": {
    "collapsed": false
   },
   "outputs": [
    {
     "data": {
      "text/plain": [
       "<matplotlib.legend.Legend at 0x7f92955544e0>"
      ]
     },
     "execution_count": 50,
     "metadata": {},
     "output_type": "execute_result"
    },
    {
     "data": {
      "image/png": "[encoded data removed]",
      "text/plain": [
       "<matplotlib.figure.Figure at 0x7f92958ab6d8>"
      ]
     },
     "metadata": {},
     "output_type": "display_data"
    }
   ],
   "source": [
    "plt.figure(figsize=(10, 5))\n",
    "plt.plot(prec_orig_window[0, :100], color='lime', label='Original')\n",
    "plt.plot(prec_true_window[0, :100], color='black', label='True')\n",
    "plt.plot(prec_corr[:100, 0], color='blue', label='Corrected')\n",
    "plt.plot(prec_corrected_rescaled[:100], color='cyan', ls='--')\n",
    "plt.xlabel('Window', fontsize=16)\n",
    "plt.ylabel('Precipitation (mm)', fontsize=16)\n",
    "plt.legend()"
   ]
  },
  {
   "cell_type": "code",
   "execution_count": 181,
   "metadata": {
    "collapsed": false
   },
   "outputs": [],
   "source": [
    "# ============================================================ #\n",
    "# Calculate metrics (all based on window-aggregated precip.) (use post-processed corrected rainfall)\n",
    "# ============================================================ #"
   ]
  },
  {
   "cell_type": "code",
   "execution_count": 182,
   "metadata": {
    "collapsed": false
   },
   "outputs": [
    {
     "name": "stdout",
     "output_type": "stream",
     "text": [
      "0.0458304173263 1.64446634817\n"
     ]
    }
   ],
   "source": [
    "# --- Innovation --- #\n",
    "innovation[innovation==-999] = np.nan\n",
    "print(np.nanmean(innovation), np.nanstd(innovation))"
   ]
  },
  {
   "cell_type": "code",
   "execution_count": 183,
   "metadata": {
    "collapsed": false
   },
   "outputs": [
    {
     "name": "stdout",
     "output_type": "stream",
     "text": [
      "[[1]]\n"
     ]
    }
   ],
   "source": [
    "# --- Lambda fraction --- #\n",
    "print(lambda_fraction)"
   ]
  },
  {
   "cell_type": "code",
   "execution_count": 184,
   "metadata": {
    "collapsed": false
   },
   "outputs": [],
   "source": [
    "# --- Ensemble-mean RMSE --- #\n",
    "# Calculate RMSE\n",
    "rmse_orig = rmse(prec_orig_window.transpose(), prec_true_window.transpose())\n",
    "rmse_corr = rmse(prec_corr, prec_true_window.transpose())"
   ]
  },
  {
   "cell_type": "code",
   "execution_count": 185,
   "metadata": {
    "collapsed": false,
    "scrolled": true
   },
   "outputs": [
    {
     "name": "stdout",
     "output_type": "stream",
     "text": [
      "[ 13.66497561] [ 12.21570551]\n"
     ]
    }
   ],
   "source": [
    "print(rmse_orig, rmse_corr)"
   ]
  },
  {
   "cell_type": "code",
   "execution_count": 186,
   "metadata": {
    "collapsed": false
   },
   "outputs": [],
   "source": [
    "# --- Ensemble-mean bias --- #\n",
    "bias_orig = prec_orig_window.mean(axis=1) / prec_true_window.mean(axis=1) - 1\n",
    "bias_corr = prec_corr.mean(axis=0) / prec_true_window.mean(axis=1) - 1"
   ]
  },
  {
   "cell_type": "code",
   "execution_count": 188,
   "metadata": {
    "collapsed": false
   },
   "outputs": [
    {
     "name": "stdout",
     "output_type": "stream",
     "text": [
      "[-0.02673477] [ 0.01320833]\n"
     ]
    }
   ],
   "source": [
    "print(bias_orig, bias_corr)"
   ]
  },
  {
   "cell_type": "code",
   "execution_count": 189,
   "metadata": {
    "collapsed": false
   },
   "outputs": [],
   "source": [
    "# --- Mean correlation --- #\n",
    "corrcoef_orig = [np.corrcoef(prec_orig_window[i, :], prec_true_window[i, :])[0, 1] for i in range(ncell)]\n",
    "corrcoef_corr = [np.corrcoef(prec_corr[:, i], prec_true_window[i, :])[0, 1] for i in range(ncell)]\n",
    "corrcoef_orig = np.asarray(corrcoef_orig)\n",
    "corrcoef_corr = np.asarray(corrcoef_corr)"
   ]
  },
  {
   "cell_type": "code",
   "execution_count": 190,
   "metadata": {
    "collapsed": false
   },
   "outputs": [
    {
     "name": "stdout",
     "output_type": "stream",
     "text": [
      "[ 0.76868437] [ 0.82374071]\n"
     ]
    }
   ],
   "source": [
    "print(corrcoef_orig, corrcoef_corr)"
   ]
  },
  {
   "cell_type": "code",
   "execution_count": null,
   "metadata": {
    "collapsed": true
   },
   "outputs": [],
   "source": []
  },
  {
   "cell_type": "markdown",
   "metadata": {
    "collapsed": true
   },
   "source": [
    "# Test"
   ]
  },
  {
   "cell_type": "code",
   "execution_count": null,
   "metadata": {
    "collapsed": true
   },
   "outputs": [],
   "source": [
    "from da_utils import da_2D_to_3D_from_SMART, da_3D_to_2D_for_SMART"
   ]
  },
  {
   "cell_type": "code",
   "execution_count": null,
   "metadata": {
    "collapsed": false
   },
   "outputs": [],
   "source": [
    "active_cells = np.arange(1, 4000).reshape([1, 3999])\n",
    "dict_array_2D = {'cell_index': active_cells}  # [1, cell]"
   ]
  },
  {
   "cell_type": "code",
   "execution_count": null,
   "metadata": {
    "collapsed": false
   },
   "outputs": [],
   "source": [
    "dict_da_3D = da_2D_to_3D_from_SMART(dict_array_2D, da_mask,\n",
    "                       out_time_varname='time',\n",
    "                       out_time_coord=[0])"
   ]
  },
  {
   "cell_type": "code",
   "execution_count": null,
   "metadata": {
    "collapsed": false
   },
   "outputs": [],
   "source": [
    "dict_da_3D['cell_index'].loc[:, 34.6875, -94.9375]"
   ]
  },
  {
   "cell_type": "code",
   "execution_count": null,
   "metadata": {
    "collapsed": true
   },
   "outputs": [],
   "source": []
  },
  {
   "cell_type": "code",
   "execution_count": 100,
   "metadata": {
    "collapsed": false
   },
   "outputs": [],
   "source": [
    "ds_sm = xr.open_dataset(\n",
    "    ('/civil/hydro/ymao/data_assim/output/synthetic_data/34.6875_-94.9375/'\n",
    "     'random1.small_SM_error.R_1.Maurer_param/synthetic_meas/synthetic_meas.19800101_19891231.nc'))"
   ]
  },
  {
   "cell_type": "code",
   "execution_count": 105,
   "metadata": {
    "collapsed": false
   },
   "outputs": [
    {
     "data": {
      "text/plain": [
       "<xarray.DataArray 'time' (time: 3652)>\n",
       "array(['1980-01-02T00:00:00.000000000', '1980-01-03T00:00:00.000000000',\n",
       "       '1980-01-04T00:00:00.000000000', ...,\n",
       "       '1989-12-29T00:00:00.000000000', '1989-12-30T00:00:00.000000000',\n",
       "       '1989-12-31T00:00:00.000000000'], dtype='datetime64[ns]')\n",
       "Coordinates:\n",
       "    nlayer   int64 0\n",
       "  * time     (time) datetime64[ns] 1980-01-02 1980-01-03 1980-01-04 ..."
      ]
     },
     "execution_count": 105,
     "metadata": {},
     "output_type": "execute_result"
    }
   ],
   "source": [
    "da_sm = ds_sm['simulated_surface_sm']\n",
    "da_sm.time"
   ]
  },
  {
   "cell_type": "code",
   "execution_count": 106,
   "metadata": {
    "collapsed": false
   },
   "outputs": [],
   "source": [
    "da_daily = da_sm.groupby('time.date').mean(dim='time')"
   ]
  },
  {
   "cell_type": "code",
   "execution_count": null,
   "metadata": {
    "collapsed": true
   },
   "outputs": [],
   "source": []
  }
 ],
 "metadata": {
  "kernelspec": {
   "display_name": "Python 3",
   "language": "python",
   "name": "python3"
  },
  "language_info": {
   "codemirror_mode": {
    "name": "ipython",
    "version": 3
   },
   "file_extension": ".py",
   "mimetype": "text/x-python",
   "name": "python",
   "nbconvert_exporter": "python",
   "pygments_lexer": "ipython3",
   "version": "3.5.2"
  }
 },
 "nbformat": 4,
 "nbformat_minor": 2
}
