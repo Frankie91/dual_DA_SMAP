{
 "cells": [
  {
   "cell_type": "code",
   "execution_count": 1,
   "metadata": {},
   "outputs": [],
   "source": [
    "%matplotlib inline\n",
    "\n",
    "import xarray as xr\n",
    "import os\n",
    "import pandas as pd\n",
    "import numpy as np\n",
    "import matplotlib\n",
    "import matplotlib.pyplot as plt\n",
    "from bokeh.plotting import figure, output_file, save\n",
    "from bokeh.io import reset_output\n",
    "import bokeh\n",
    "import sys\n",
    "import multiprocessing as mp\n",
    "from collections import OrderedDict\n",
    "import cartopy.crs as ccrs\n",
    "import pickle\n",
    "from scipy.stats import rankdata\n",
    "\n",
    "from tonic.io import read_configobj\n",
    "import timeit\n",
    "\n",
    "from analysis_utils import (\n",
    "    rmse, find_global_param_value, determine_tile_frac, get_soil_depth,\n",
    "    setup_output_dirs, calculate_rmse, calculate_pbias)"
   ]
  },
  {
   "cell_type": "code",
   "execution_count": 11,
   "metadata": {},
   "outputs": [],
   "source": [
    "# ========================================================== #\n",
    "# Command line arguments\n",
    "# ========================================================== #\n",
    "# --- Load in config file --- #\n",
    "cfg = read_configobj('/civil/hydro/ymao/data_assim/tools/plot_analyze_results/cfg/' \\\n",
    "                     '20180331.small_basins.synthetic/arkansas/sm_0.5.R_9.prec_0.3/' \\\n",
    "                     'plot.EnKF_results.cfg')"
   ]
  },
  {
   "cell_type": "code",
   "execution_count": 12,
   "metadata": {},
   "outputs": [],
   "source": [
    "# ========================================================== #\n",
    "# Parameter setting\n",
    "# ========================================================== #\n",
    "\n",
    "# --- Input directory and files --- #\n",
    "# Ensemble prediction post-process results\n",
    "post_result_basedir = cfg['POSTPROCESS']['post_result_basedir']\n",
    "\n",
    "# Synthetic results basedir\n",
    "gen_synth_basedir = cfg['EnKF']['gen_synth_basedir']\n",
    "truth_nc_filename = cfg['EnKF']['truth_nc_filename']\n",
    "\n",
    "# openloop\n",
    "openloop_basedir = cfg['EnKF']['openloop_basedir']\n",
    "\n",
    "# VIC global file template (for extracting param file and snow_band)\n",
    "vic_global_txt = cfg['EnKF']['vic_global_txt']\n",
    "\n",
    "# Domain netCDF file\n",
    "domain_nc = cfg['EnKF']['domain_nc']\n",
    "\n",
    "# Time period\n",
    "start_time = pd.to_datetime(cfg['EnKF']['start_time'])\n",
    "end_time = pd.to_datetime(cfg['EnKF']['end_time'])\n",
    "start_year = start_time.year\n",
    "end_year = end_time.year\n",
    "\n",
    "# VIC parameter netCDF file\n",
    "vic_param_nc = cfg['EnKF']['vic_param_nc']\n",
    "\n",
    "# --- Measurement times --- #\n",
    "meas_times = pd.date_range(\n",
    "    cfg['EnKF']['meas_start_time'],\n",
    "    cfg['EnKF']['meas_end_time'],\n",
    "    freq=cfg['EnKF']['freq'])\n",
    "\n",
    "# --- Plot time period --- #\n",
    "plot_start_time = pd.to_datetime(cfg['EnKF']['plot_start_time'])\n",
    "plot_end_time = pd.to_datetime(cfg['EnKF']['plot_end_time'])\n",
    "plot_start_year = plot_start_time.year\n",
    "plot_end_year = plot_end_time.year\n",
    "\n",
    "# --- others --- #\n",
    "N_state = cfg['EnKF']['N']  # ensemble size of state update\n",
    "N_prec = cfg['SMART']['N']  # ensemble size of rainfall correction\n",
    "\n",
    "# --- Output --- #\n",
    "output_rootdir = cfg['OUTPUT']['output_post_dir']"
   ]
  },
  {
   "cell_type": "code",
   "execution_count": 13,
   "metadata": {},
   "outputs": [],
   "source": [
    "# ========================================================== #\n",
    "# Setup output data dir\n",
    "# ========================================================== #\n",
    "output_data_dir = setup_output_dirs(\n",
    "        output_rootdir,\n",
    "        mkdirs=['data'])['data']\n",
    "output_maps_dir = setup_output_dirs(\n",
    "                    output_rootdir,\n",
    "                    mkdirs=['maps'])['maps']\n",
    "output_ts_dir = setup_output_dirs(\n",
    "        output_rootdir,\n",
    "        mkdirs=['time_series'])['time_series']"
   ]
  },
  {
   "cell_type": "code",
   "execution_count": 14,
   "metadata": {},
   "outputs": [
    {
     "name": "stdout",
     "output_type": "stream",
     "text": [
      "Loading data...\n",
      "\tOpenloop history...\n",
      "\tTruth history...\n"
     ]
    }
   ],
   "source": [
    "# ========================================================== #\n",
    "# Load data\n",
    "# ========================================================== #\n",
    "print('Loading data...')\n",
    "\n",
    "# --- Domain --- #\n",
    "da_domain = xr.open_dataset(domain_nc)['mask']\n",
    "\n",
    "# --- Tile fraction --- #\n",
    "da_tile_frac = determine_tile_frac(vic_global_txt)  # [veg_class, snow_band, lat, lon]\n",
    "\n",
    "# --- Openloop --- #\n",
    "print('\\tOpenloop history...')\n",
    "openloop_hist_nc = os.path.join(\n",
    "    openloop_basedir,\n",
    "    'history',\n",
    "    'history.openloop.{}-{:05d}.nc'.format(\n",
    "        start_time.strftime('%Y-%m-%d'),\n",
    "        start_time.hour*3600+start_time.second))\n",
    "ds_openloop_hist = xr.open_dataset(openloop_hist_nc)\n",
    "# Delete soil moisture from hist file to reduce size\n",
    "ds_openloop_hist.__delitem__('OUT_SOIL_MOIST')\n",
    "\n",
    "# --- Truth --- #\n",
    "print('\\tTruth history...')\n",
    "ds_truth_hist = xr.open_dataset(os.path.join(\n",
    "        gen_synth_basedir, 'truth',\n",
    "        'history', truth_nc_filename))\n",
    "# Delete soil moisture from hist file to reduce size\n",
    "ds_truth_hist.__delitem__('OUT_SOIL_MOIST')"
   ]
  },
  {
   "cell_type": "code",
   "execution_count": 15,
   "metadata": {},
   "outputs": [],
   "source": [
    "# ======================================================== #\n",
    "# Extract shared coordinates\n",
    "# ======================================================== #\n",
    "lat_coord = da_domain['lat']\n",
    "lon_coord = da_domain['lon']"
   ]
  },
  {
   "cell_type": "code",
   "execution_count": 16,
   "metadata": {},
   "outputs": [],
   "source": [
    "# ======================================================== #\n",
    "# Extract soil layer depths\n",
    "# ======================================================== #\n",
    "da_soil_depth = get_soil_depth(vic_param_nc)  # [nlayer, lat, lon]\n",
    "depth_sm1 = da_soil_depth.sel(nlayer=0)  # [lat, lon]\n",
    "depth_sm2 = da_soil_depth.sel(nlayer=1)  # [lat, lon]\n",
    "depth_sm3 = da_soil_depth.sel(nlayer=2)  # [lat, lon]"
   ]
  },
  {
   "cell_type": "markdown",
   "metadata": {},
   "source": [
    "# Time series"
   ]
  },
  {
   "cell_type": "code",
   "execution_count": 25,
   "metadata": {},
   "outputs": [
    {
     "name": "stdout",
     "output_type": "stream",
     "text": [
      "Plotting time series results for 38.3125 -97.5625\n"
     ]
    }
   ],
   "source": [
    "# ======================================================== #\n",
    "# lat lon\n",
    "# ======================================================== #\n",
    "lat = 38.3125\n",
    "lon = -97.5625\n",
    "print('Plotting time series results for {} {}'.format(lat, lon))\n",
    "\n",
    "zoomin_start_time = '1986-10-01'\n",
    "zoomin_end_time = '1987-09-30'"
   ]
  },
  {
   "cell_type": "code",
   "execution_count": 29,
   "metadata": {
    "scrolled": true
   },
   "outputs": [
    {
     "name": "stdout",
     "output_type": "stream",
     "text": [
      "Loading grid cell post-processed results...\n",
      "Rainfall ensemble 1, state ensemble 1\n",
      "Rainfall ensemble 1, state ensemble 2\n",
      "Rainfall ensemble 1, state ensemble 3\n",
      "Rainfall ensemble 1, state ensemble 4\n",
      "Rainfall ensemble 1, state ensemble 5\n",
      "Rainfall ensemble 1, state ensemble 6\n",
      "Rainfall ensemble 1, state ensemble 7\n",
      "Rainfall ensemble 1, state ensemble 8\n",
      "Rainfall ensemble 1, state ensemble 9\n",
      "Rainfall ensemble 1, state ensemble 10\n",
      "Rainfall ensemble 1, state ensemble 11\n",
      "Rainfall ensemble 1, state ensemble 12\n",
      "Rainfall ensemble 1, state ensemble 13\n",
      "Rainfall ensemble 1, state ensemble 14\n",
      "Rainfall ensemble 1, state ensemble 15\n",
      "Rainfall ensemble 1, state ensemble 16\n",
      "Rainfall ensemble 2, state ensemble 1\n",
      "Rainfall ensemble 2, state ensemble 2\n",
      "Rainfall ensemble 2, state ensemble 3\n",
      "Rainfall ensemble 2, state ensemble 4\n",
      "Rainfall ensemble 2, state ensemble 5\n",
      "Rainfall ensemble 2, state ensemble 6\n",
      "Rainfall ensemble 2, state ensemble 7\n",
      "Rainfall ensemble 2, state ensemble 8\n",
      "Rainfall ensemble 2, state ensemble 9\n",
      "Rainfall ensemble 2, state ensemble 10\n",
      "Rainfall ensemble 2, state ensemble 11\n",
      "Rainfall ensemble 2, state ensemble 12\n",
      "Rainfall ensemble 2, state ensemble 13\n",
      "Rainfall ensemble 2, state ensemble 14\n",
      "Rainfall ensemble 2, state ensemble 15\n",
      "Rainfall ensemble 2, state ensemble 16\n",
      "Rainfall ensemble 3, state ensemble 1\n",
      "Rainfall ensemble 3, state ensemble 2\n",
      "Rainfall ensemble 3, state ensemble 3\n",
      "Rainfall ensemble 3, state ensemble 4\n",
      "Rainfall ensemble 3, state ensemble 5\n",
      "Rainfall ensemble 3, state ensemble 6\n",
      "Rainfall ensemble 3, state ensemble 7\n",
      "Rainfall ensemble 3, state ensemble 8\n",
      "Rainfall ensemble 3, state ensemble 9\n",
      "Rainfall ensemble 3, state ensemble 10\n",
      "Rainfall ensemble 3, state ensemble 11\n",
      "Rainfall ensemble 3, state ensemble 12\n",
      "Rainfall ensemble 3, state ensemble 13\n",
      "Rainfall ensemble 3, state ensemble 14\n",
      "Rainfall ensemble 3, state ensemble 15\n",
      "Rainfall ensemble 3, state ensemble 16\n",
      "Rainfall ensemble 4, state ensemble 1\n",
      "Rainfall ensemble 4, state ensemble 2\n",
      "Rainfall ensemble 4, state ensemble 3\n",
      "Rainfall ensemble 4, state ensemble 4\n",
      "Rainfall ensemble 4, state ensemble 5\n",
      "Rainfall ensemble 4, state ensemble 6\n",
      "Rainfall ensemble 4, state ensemble 7\n",
      "Rainfall ensemble 4, state ensemble 8\n",
      "Rainfall ensemble 4, state ensemble 9\n",
      "Rainfall ensemble 4, state ensemble 10\n",
      "Rainfall ensemble 4, state ensemble 11\n",
      "Rainfall ensemble 4, state ensemble 12\n",
      "Rainfall ensemble 4, state ensemble 13\n",
      "Rainfall ensemble 4, state ensemble 14\n",
      "Rainfall ensemble 4, state ensemble 15\n",
      "Rainfall ensemble 4, state ensemble 16\n",
      "Rainfall ensemble 5, state ensemble 1\n",
      "Rainfall ensemble 5, state ensemble 2\n",
      "Rainfall ensemble 5, state ensemble 3\n",
      "Rainfall ensemble 5, state ensemble 4\n",
      "Rainfall ensemble 5, state ensemble 5\n",
      "Rainfall ensemble 5, state ensemble 6\n",
      "Rainfall ensemble 5, state ensemble 7\n",
      "Rainfall ensemble 5, state ensemble 8\n",
      "Rainfall ensemble 5, state ensemble 9\n",
      "Rainfall ensemble 5, state ensemble 10\n",
      "Rainfall ensemble 5, state ensemble 11\n",
      "Rainfall ensemble 5, state ensemble 12\n",
      "Rainfall ensemble 5, state ensemble 13\n",
      "Rainfall ensemble 5, state ensemble 14\n",
      "Rainfall ensemble 5, state ensemble 15\n",
      "Rainfall ensemble 5, state ensemble 16\n",
      "Rainfall ensemble 6, state ensemble 1\n",
      "Rainfall ensemble 6, state ensemble 2\n",
      "Rainfall ensemble 6, state ensemble 3\n",
      "Rainfall ensemble 6, state ensemble 4\n",
      "Rainfall ensemble 6, state ensemble 5\n",
      "Rainfall ensemble 6, state ensemble 6\n",
      "Rainfall ensemble 6, state ensemble 7\n",
      "Rainfall ensemble 6, state ensemble 8\n",
      "Rainfall ensemble 6, state ensemble 9\n",
      "Rainfall ensemble 6, state ensemble 10\n",
      "Rainfall ensemble 6, state ensemble 11\n",
      "Rainfall ensemble 6, state ensemble 12\n",
      "Rainfall ensemble 6, state ensemble 13\n",
      "Rainfall ensemble 6, state ensemble 14\n",
      "Rainfall ensemble 6, state ensemble 15\n",
      "Rainfall ensemble 6, state ensemble 16\n",
      "Rainfall ensemble 7, state ensemble 1\n",
      "Rainfall ensemble 7, state ensemble 2\n",
      "Rainfall ensemble 7, state ensemble 3\n",
      "Rainfall ensemble 7, state ensemble 4\n",
      "Rainfall ensemble 7, state ensemble 5\n",
      "Rainfall ensemble 7, state ensemble 6\n",
      "Rainfall ensemble 7, state ensemble 7\n",
      "Rainfall ensemble 7, state ensemble 8\n",
      "Rainfall ensemble 7, state ensemble 9\n",
      "Rainfall ensemble 7, state ensemble 10\n",
      "Rainfall ensemble 7, state ensemble 11\n",
      "Rainfall ensemble 7, state ensemble 12\n",
      "Rainfall ensemble 7, state ensemble 13\n",
      "Rainfall ensemble 7, state ensemble 14\n",
      "Rainfall ensemble 7, state ensemble 15\n",
      "Rainfall ensemble 7, state ensemble 16\n",
      "Rainfall ensemble 8, state ensemble 1\n",
      "Rainfall ensemble 8, state ensemble 2\n",
      "Rainfall ensemble 8, state ensemble 3\n",
      "Rainfall ensemble 8, state ensemble 4\n",
      "Rainfall ensemble 8, state ensemble 5\n",
      "Rainfall ensemble 8, state ensemble 6\n",
      "Rainfall ensemble 8, state ensemble 7\n",
      "Rainfall ensemble 8, state ensemble 8\n",
      "Rainfall ensemble 8, state ensemble 9\n",
      "Rainfall ensemble 8, state ensemble 10\n",
      "Rainfall ensemble 8, state ensemble 11\n",
      "Rainfall ensemble 8, state ensemble 12\n",
      "Rainfall ensemble 8, state ensemble 13\n",
      "Rainfall ensemble 8, state ensemble 14\n",
      "Rainfall ensemble 8, state ensemble 15\n",
      "Rainfall ensemble 8, state ensemble 16\n",
      "Rainfall ensemble 9, state ensemble 1\n",
      "Rainfall ensemble 9, state ensemble 2\n",
      "Rainfall ensemble 9, state ensemble 3\n",
      "Rainfall ensemble 9, state ensemble 4\n",
      "Rainfall ensemble 9, state ensemble 5\n",
      "Rainfall ensemble 9, state ensemble 6\n",
      "Rainfall ensemble 9, state ensemble 7\n",
      "Rainfall ensemble 9, state ensemble 8\n",
      "Rainfall ensemble 9, state ensemble 9\n",
      "Rainfall ensemble 9, state ensemble 10\n",
      "Rainfall ensemble 9, state ensemble 11\n",
      "Rainfall ensemble 9, state ensemble 12\n",
      "Rainfall ensemble 9, state ensemble 13\n",
      "Rainfall ensemble 9, state ensemble 14\n",
      "Rainfall ensemble 9, state ensemble 15\n",
      "Rainfall ensemble 9, state ensemble 16\n",
      "Rainfall ensemble 10, state ensemble 1\n",
      "Rainfall ensemble 10, state ensemble 2\n",
      "Rainfall ensemble 10, state ensemble 3\n",
      "Rainfall ensemble 10, state ensemble 4\n",
      "Rainfall ensemble 10, state ensemble 5\n",
      "Rainfall ensemble 10, state ensemble 6\n",
      "Rainfall ensemble 10, state ensemble 7\n",
      "Rainfall ensemble 10, state ensemble 8\n",
      "Rainfall ensemble 10, state ensemble 9\n",
      "Rainfall ensemble 10, state ensemble 10\n",
      "Rainfall ensemble 10, state ensemble 11\n",
      "Rainfall ensemble 10, state ensemble 12\n",
      "Rainfall ensemble 10, state ensemble 13\n",
      "Rainfall ensemble 10, state ensemble 14\n",
      "Rainfall ensemble 10, state ensemble 15\n",
      "Rainfall ensemble 10, state ensemble 16\n",
      "Rainfall ensemble 11, state ensemble 1\n",
      "Rainfall ensemble 11, state ensemble 2\n",
      "Rainfall ensemble 11, state ensemble 3\n",
      "Rainfall ensemble 11, state ensemble 4\n",
      "Rainfall ensemble 11, state ensemble 5\n",
      "Rainfall ensemble 11, state ensemble 6\n",
      "Rainfall ensemble 11, state ensemble 7\n",
      "Rainfall ensemble 11, state ensemble 8\n",
      "Rainfall ensemble 11, state ensemble 9\n",
      "Rainfall ensemble 11, state ensemble 10\n",
      "Rainfall ensemble 11, state ensemble 11\n",
      "Rainfall ensemble 11, state ensemble 12\n",
      "Rainfall ensemble 11, state ensemble 13\n",
      "Rainfall ensemble 11, state ensemble 14\n",
      "Rainfall ensemble 11, state ensemble 15\n",
      "Rainfall ensemble 11, state ensemble 16\n",
      "Rainfall ensemble 12, state ensemble 1\n",
      "Rainfall ensemble 12, state ensemble 2\n",
      "Rainfall ensemble 12, state ensemble 3\n",
      "Rainfall ensemble 12, state ensemble 4\n",
      "Rainfall ensemble 12, state ensemble 5\n",
      "Rainfall ensemble 12, state ensemble 6\n",
      "Rainfall ensemble 12, state ensemble 7\n",
      "Rainfall ensemble 12, state ensemble 8\n",
      "Rainfall ensemble 12, state ensemble 9\n",
      "Rainfall ensemble 12, state ensemble 10\n",
      "Rainfall ensemble 12, state ensemble 11\n",
      "Rainfall ensemble 12, state ensemble 12\n",
      "Rainfall ensemble 12, state ensemble 13\n",
      "Rainfall ensemble 12, state ensemble 14\n",
      "Rainfall ensemble 12, state ensemble 15\n",
      "Rainfall ensemble 12, state ensemble 16\n",
      "Rainfall ensemble 13, state ensemble 1\n",
      "Rainfall ensemble 13, state ensemble 2\n",
      "Rainfall ensemble 13, state ensemble 3\n",
      "Rainfall ensemble 13, state ensemble 4\n",
      "Rainfall ensemble 13, state ensemble 5\n",
      "Rainfall ensemble 13, state ensemble 6\n",
      "Rainfall ensemble 13, state ensemble 7\n",
      "Rainfall ensemble 13, state ensemble 8\n",
      "Rainfall ensemble 13, state ensemble 9\n",
      "Rainfall ensemble 13, state ensemble 10\n",
      "Rainfall ensemble 13, state ensemble 11\n",
      "Rainfall ensemble 13, state ensemble 12\n",
      "Rainfall ensemble 13, state ensemble 13\n",
      "Rainfall ensemble 13, state ensemble 14\n",
      "Rainfall ensemble 13, state ensemble 15\n",
      "Rainfall ensemble 13, state ensemble 16\n",
      "Rainfall ensemble 14, state ensemble 1\n",
      "Rainfall ensemble 14, state ensemble 2\n",
      "Rainfall ensemble 14, state ensemble 3\n",
      "Rainfall ensemble 14, state ensemble 4\n",
      "Rainfall ensemble 14, state ensemble 5\n",
      "Rainfall ensemble 14, state ensemble 6\n"
     ]
    },
    {
     "name": "stdout",
     "output_type": "stream",
     "text": [
      "Rainfall ensemble 14, state ensemble 7\n",
      "Rainfall ensemble 14, state ensemble 8\n",
      "Rainfall ensemble 14, state ensemble 9\n",
      "Rainfall ensemble 14, state ensemble 10\n",
      "Rainfall ensemble 14, state ensemble 11\n",
      "Rainfall ensemble 14, state ensemble 12\n",
      "Rainfall ensemble 14, state ensemble 13\n",
      "Rainfall ensemble 14, state ensemble 14\n",
      "Rainfall ensemble 14, state ensemble 15\n",
      "Rainfall ensemble 14, state ensemble 16\n",
      "Rainfall ensemble 15, state ensemble 1\n",
      "Rainfall ensemble 15, state ensemble 2\n",
      "Rainfall ensemble 15, state ensemble 3\n",
      "Rainfall ensemble 15, state ensemble 4\n",
      "Rainfall ensemble 15, state ensemble 5\n",
      "Rainfall ensemble 15, state ensemble 6\n",
      "Rainfall ensemble 15, state ensemble 7\n",
      "Rainfall ensemble 15, state ensemble 8\n",
      "Rainfall ensemble 15, state ensemble 9\n",
      "Rainfall ensemble 15, state ensemble 10\n",
      "Rainfall ensemble 15, state ensemble 11\n",
      "Rainfall ensemble 15, state ensemble 12\n",
      "Rainfall ensemble 15, state ensemble 13\n",
      "Rainfall ensemble 15, state ensemble 14\n",
      "Rainfall ensemble 15, state ensemble 15\n",
      "Rainfall ensemble 15, state ensemble 16\n",
      "Rainfall ensemble 16, state ensemble 1\n",
      "Rainfall ensemble 16, state ensemble 2\n",
      "Rainfall ensemble 16, state ensemble 3\n",
      "Rainfall ensemble 16, state ensemble 4\n",
      "Rainfall ensemble 16, state ensemble 5\n",
      "Rainfall ensemble 16, state ensemble 6\n",
      "Rainfall ensemble 16, state ensemble 7\n",
      "Rainfall ensemble 16, state ensemble 8\n",
      "Rainfall ensemble 16, state ensemble 9\n",
      "Rainfall ensemble 16, state ensemble 10\n",
      "Rainfall ensemble 16, state ensemble 11\n",
      "Rainfall ensemble 16, state ensemble 12\n",
      "Rainfall ensemble 16, state ensemble 13\n",
      "Rainfall ensemble 16, state ensemble 14\n",
      "Rainfall ensemble 16, state ensemble 15\n",
      "Rainfall ensemble 16, state ensemble 16\n"
     ]
    }
   ],
   "source": [
    "# ======================================================== #\n",
    "# Load grid-cell post-processed ensemble history\n",
    "# ======================================================== #\n",
    "# --- Initialize dict --- #\n",
    "dict_ds_post_hist = {}\n",
    "# --- Identify output grid-cell history file directory --- #\n",
    "cell_post_dir = os.path.join(\n",
    "    cfg['POSTPROCESS']['post_result_basedir'],\n",
    "    'history',\n",
    "    '{}_{}'.format(lat, lon))\n",
    "# --- Load grid-cell data --- #\n",
    "print('Loading grid cell post-processed results...')\n",
    "# If this is the first time extracting results for this grid cell,\n",
    "# extract and save\n",
    "if not os.path.isdir(cell_post_dir):\n",
    "    print('First time extracting {} {}'.format(lat, lon))\n",
    "    # Create directory\n",
    "    os.mkdir(cell_post_dir)\n",
    "    for i in range(N_prec):\n",
    "        for j in range(N_state):\n",
    "            print('Rainfall ensemble {}, state ensemble {}'.format(i+1, j+1))\n",
    "            file_nc = os.path.join(\n",
    "                cfg['POSTPROCESS']['post_result_basedir'],\n",
    "                'history',\n",
    "                'force_ens{}.state_ens{}'.format(i+1, j+1),\n",
    "                'history.concat.{}_{}.nc'.format(start_year, end_year))\n",
    "            # Load file\n",
    "            time1 = timeit.default_timer()\n",
    "            ds_post_hist_cell = xr.open_dataset(file_nc).sel(lat=lat, lon=lon)\n",
    "            time2 = timeit.default_timer()\n",
    "            print('\\tTime of loading: {:.2f} sec'.format(time2-time1))\n",
    "            # Put in dict\n",
    "            time1 = timeit.default_timer()\n",
    "            dict_ds_post_hist['force_ens{}.state_ens{}'.format(i+1, j+1)] = \\\n",
    "                ds_post_hist_cell\n",
    "            time2 = timeit.default_timer()\n",
    "            print('\\tTime of putting: {:.2f} sec'.format(time2-time1))\n",
    "            # Save to file\n",
    "            time1 = timeit.default_timer()\n",
    "            ds_post_hist_cell.to_netcdf(\n",
    "                os.path.join(cell_post_dir, 'force_ens{}.state_ens{}'.format(i+1, j+1)),\n",
    "                format='NETCDF4_CLASSIC')\n",
    "            time2 = timeit.default_timer()\n",
    "            print('\\tTime of saving: {:.2f} sec'.format(time2-time1))\n",
    "#     with open(cell_post_dict, 'wb') as f:\n",
    "#         pickle.dump(dict_ds_post_hist, f)\n",
    "# If already extracted results for this grid cell, directly load\n",
    "else:\n",
    "    for i in range(N_prec):\n",
    "        for j in range(N_state):\n",
    "            print('Rainfall ensemble {}, state ensemble {}'.format(i+1, j+1))\n",
    "            dict_ds_post_hist['force_ens{}.state_ens{}'.format(i+1, j+1)] = \\\n",
    "                xr.open_dataset(os.path.join(cell_post_dir, 'force_ens{}.state_ens{}'.format(i+1, j+1)))"
   ]
  },
  {
   "cell_type": "code",
   "execution_count": 30,
   "metadata": {},
   "outputs": [],
   "source": [
    "# ======================================================== #\n",
    "# Extract and process single-cell information\n",
    "# ======================================================== #\n",
    "# --- Concat all ensemble members for the cell --- #\n",
    "out_nc = os.path.join(output_data_dir, '{}_{}.all_ens.nc'.format(lat, lon))\n",
    "if not os.path.isfile(out_nc):  # if concatenated nc file is not yet saved\n",
    "    list_ds = []\n",
    "    list_coord = []\n",
    "    for i in range(N_prec):\n",
    "        for j in range(N_state):\n",
    "            ens_name = 'force_ens{}.state_ens{}'.format(i+1, j+1)\n",
    "            list_coord.append(ens_name)\n",
    "            ds = dict_ds_post_hist[ens_name]\n",
    "            ### HACK - clean up ###\n",
    "            if 'nb2' in ds.keys():\n",
    "                ds = ds.rename({'nb2': 'nv'}, inplace=True)\n",
    "            if 'lev' in ds.keys():\n",
    "                ds.__delitem__('lev')\n",
    "            #######################\n",
    "            list_ds.append(ds)\n",
    "    ds_cell_all = xr.concat(list_ds, dim='ensemble')\n",
    "    ds_cell_all.coords['ensemble'] = list_coord\n",
    "    ds_cell_all.to_netcdf(out_nc)\n",
    "else:  # if concatenated nc file already saved\n",
    "    ds_cell_all = xr.open_dataset(out_nc)"
   ]
  },
  {
   "cell_type": "code",
   "execution_count": 31,
   "metadata": {},
   "outputs": [
    {
     "name": "stderr",
     "output_type": "stream",
     "text": [
      "/civil/hydro/ymao/anaconda3/envs/da2/lib/python3.5/site-packages/ipykernel_launcher.py:4: DeprecationWarning: \n",
      ".resample() has been modified to defer calculations. Instead of passing 'dim' and 'how=\"sum\", instead consider using .resample(time=\"1D\").sum() \n",
      "  after removing the cwd from sys.path.\n",
      "/civil/hydro/ymao/anaconda3/envs/da2/lib/python3.5/site-packages/xarray/core/common.py:619: FutureWarning: pd.TimeGrouper is deprecated and will be removed; Please use pd.Grouper(freq=...)\n",
      "  label=label, base=base)\n"
     ]
    }
   ],
   "source": [
    "# --- Concat all ensemble members for the cell --- #\n",
    "out_nc = os.path.join(output_data_dir, '{}_{}.all_ens_daily.nc'.format(lat, lon))\n",
    "if not os.path.isfile(out_nc):  # if daily nc file is not yet saved\n",
    "    ds_cell_daily = ds_cell_all.resample(freq='1D', dim='time', how='sum')\n",
    "    ds_cell_daily.to_netcdf(out_nc)\n",
    "else:  # if daily nc file already saved\n",
    "    ds_cell_daily = xr.open_dataset(out_nc)"
   ]
  },
  {
   "cell_type": "code",
   "execution_count": 33,
   "metadata": {},
   "outputs": [],
   "source": [
    "##### Test - only consider 10 state members and 10 precipitation members #####\n",
    "# --- Concat all ensemble members for the cell --- #\n",
    "list_ens_name_small = []\n",
    "for i in range(10):\n",
    "    for j in range(10):\n",
    "        ens_name = 'force_ens{}.state_ens{}'.format(i+1, j+1)\n",
    "        list_ens_name_small.append(ens_name)\n",
    "ds_cell_all_small = ds_cell_all.sel(ensemble=list_ens_name_small)\n",
    "ds_cell_daily_small = ds_cell_daily.sel(ensemble=list_ens_name_small)"
   ]
  },
  {
   "cell_type": "code",
   "execution_count": 34,
   "metadata": {},
   "outputs": [
    {
     "name": "stderr",
     "output_type": "stream",
     "text": [
      "/civil/hydro/ymao/anaconda3/envs/da2/lib/python3.5/site-packages/ipykernel_launcher.py:26: DeprecationWarning: \n",
      ".resample() has been modified to defer calculations. Instead of passing 'dim' and 'how=\"sum\", instead consider using .resample(time=\"1D\").sum() \n",
      "/civil/hydro/ymao/anaconda3/envs/da2/lib/python3.5/site-packages/xarray/core/common.py:619: FutureWarning: pd.TimeGrouper is deprecated and will be removed; Please use pd.Grouper(freq=...)\n",
      "  label=label, base=base)\n"
     ]
    }
   ],
   "source": [
    "# --- Calculate ensemble-mean time series --- #\n",
    "# Original timestep\n",
    "out_nc = os.path.join(output_data_dir, '{}_{}.ensMean.nc'.format(lat, lon))\n",
    "if not os.path.isfile(out_nc):\n",
    "    ds_cell_ensMean = ds_cell_all.mean(dim='ensemble')\n",
    "    ds_cell_ensMean.to_netcdf(out_nc, format='NETCDF4_CLASSIC')\n",
    "else:\n",
    "    ds_cell_ensMean = xr.open_dataset(out_nc)\n",
    "# Daily\n",
    "out_nc = os.path.join(output_data_dir, '{}_{}.ensMean_daily.nc'.format(lat, lon))\n",
    "if not os.path.isfile(out_nc):\n",
    "    ds_cell_ensMean_daily = ds_cell_ensMean.resample(freq='1D', dim='time', how='sum')\n",
    "    ds_cell_ensMean_daily.to_netcdf(out_nc, format='NETCDF4_CLASSIC')\n",
    "else:\n",
    "    ds_cell_ensMean_daily = xr.open_dataset(out_nc)\n",
    "##### Test - 10 states and 10 prec #####\n",
    "# Daily\n",
    "out_nc = os.path.join(output_data_dir, '{}_{}.ensMean_10state10prec.nc'.format(lat, lon))\n",
    "if not os.path.isfile(out_nc):\n",
    "    ds_cell_ensMean_small = ds_cell_all_small.mean(dim='ensemble')\n",
    "    ds_cell_ensMean_small.to_netcdf(out_nc, format='NETCDF4_CLASSIC')\n",
    "else:\n",
    "    ds_cell_ensMean_small = xr.open_dataset(out_nc)\n",
    "out_nc = os.path.join(output_data_dir, '{}_{}.ensMean_daily_10state10prec.nc'.format(lat, lon))\n",
    "if not os.path.isfile(out_nc):\n",
    "    ds_cell_ensMean_daily_small = ds_cell_ensMean_small.resample(freq='1D', dim='time', how='sum')\n",
    "    ds_cell_ensMean_daily_small.to_netcdf(out_nc, format='NETCDF4_CLASSIC')\n",
    "else:\n",
    "    ds_cell_ensMean_daily_small = xr.open_dataset(out_nc)"
   ]
  },
  {
   "cell_type": "code",
   "execution_count": 35,
   "metadata": {},
   "outputs": [
    {
     "name": "stderr",
     "output_type": "stream",
     "text": [
      "/civil/hydro/ymao/anaconda3/envs/da2/lib/python3.5/site-packages/ipykernel_launcher.py:8: DeprecationWarning: \n",
      ".resample() has been modified to defer calculations. Instead of passing 'dim' and 'how=\"sum\", instead consider using .resample(time=\"1D\").sum() \n",
      "  \n",
      "/civil/hydro/ymao/anaconda3/envs/da2/lib/python3.5/site-packages/xarray/core/common.py:619: FutureWarning: pd.TimeGrouper is deprecated and will be removed; Please use pd.Grouper(freq=...)\n",
      "  label=label, base=base)\n",
      "/civil/hydro/ymao/anaconda3/envs/da2/lib/python3.5/site-packages/ipykernel_launcher.py:14: DeprecationWarning: \n",
      ".resample() has been modified to defer calculations. Instead of passing 'dim' and 'how=\"sum\", instead consider using .resample(time=\"1D\").sum() \n",
      "  \n"
     ]
    }
   ],
   "source": [
    "# --- Select out truth and openloop time series for this grid cell --- #\n",
    "# Original timesetp\n",
    "ds_truth_cell = ds_truth_hist.sel(lat=slice(lat, lat), lon=slice(lon, lon))\n",
    "ds_openloop_cell = ds_openloop_hist.sel(lat=slice(lat, lat), lon=slice(lon, lon))\n",
    "# Daily\n",
    "out_nc = os.path.join(output_data_dir, '{}_{}.truth_daily.nc'.format(lat, lon))\n",
    "if not os.path.isfile(out_nc):\n",
    "    ds_truth_cell_daily = ds_truth_cell.resample(freq='1D', dim='time', how='sum')\n",
    "    ds_truth_cell_daily.to_netcdf(out_nc, format='NETCDF4_CLASSIC')\n",
    "else:\n",
    "    ds_truth_cell_daily = xr.open_dataset(out_nc)\n",
    "out_nc = os.path.join(output_data_dir, '{}_{}.openloop_daily.nc'.format(lat, lon))\n",
    "if not os.path.isfile(out_nc):\n",
    "    ds_openloop_cell_daily = ds_openloop_cell.resample(freq='1D', dim='time', how='sum')\n",
    "    ds_openloop_cell_daily.to_netcdf(out_nc, format='NETCDF4_CLASSIC')\n",
    "else:\n",
    "    ds_openloop_cell_daily = xr.open_dataset(out_nc)"
   ]
  },
  {
   "cell_type": "markdown",
   "metadata": {},
   "source": [
    "# Calculate statistics"
   ]
  },
  {
   "cell_type": "code",
   "execution_count": 36,
   "metadata": {},
   "outputs": [
    {
     "name": "stderr",
     "output_type": "stream",
     "text": [
      "/civil/hydro/ymao/anaconda3/envs/da2/lib/python3.5/site-packages/xarray/core/common.py:619: FutureWarning: pd.TimeGrouper is deprecated and will be removed; Please use pd.Grouper(freq=...)\n",
      "  label=label, base=base)\n"
     ]
    },
    {
     "name": "stdout",
     "output_type": "stream",
     "text": [
      "0.10396637195910831 0.1016605429800416\n",
      "0.41889703346196633 0.37053096841345334\n"
     ]
    }
   ],
   "source": [
    "# ======================================================== #\n",
    "# Calculate statistics\n",
    "# ======================================================== #\n",
    "# --- Ensemble-mean RMSE --- #\n",
    "# Daily surface runoff - openloop\n",
    "out_nc = os.path.join(output_data_dir, '{}_{}.rmse_dailyRunoff.openloop.nc'.format(lat, lon))\n",
    "da_rmse_dailyRunoff_openloop = calculate_rmse(\n",
    "    out_nc, ds_truth_cell, ds_openloop_cell,\n",
    "    var='runoff_daily')\n",
    "# Daily surface runoff - ensMean\n",
    "out_nc = os.path.join(output_data_dir, '{}_{}.rmse_dailyRunoff.ensMean.nc'.format(lat, lon))\n",
    "da_rmse_dailyRunoff_ensMean = calculate_rmse(\n",
    "    out_nc, ds_truth_cell, ds_cell_ensMean,\n",
    "    var='runoff_daily')\n",
    "# Daily baseflow - openloop\n",
    "out_nc = os.path.join(output_data_dir, '{}_{}.rmse_dailyBaseflow.openloop.nc'.format(lat, lon))\n",
    "da_rmse_dailyBaseflow_openloop = calculate_rmse(\n",
    "    out_nc, ds_truth_cell, ds_openloop_cell,\n",
    "    var='baseflow_daily')\n",
    "# Daily surface baseflow - ensMean\n",
    "out_nc = os.path.join(output_data_dir, '{}_{}.rmse_dailyBaseflow.ensMean.nc'.format(lat, lon))\n",
    "da_rmse_dailyBaseflow_ensMean = calculate_rmse(\n",
    "    out_nc, ds_truth_cell, ds_cell_ensMean,\n",
    "    var='baseflow_daily')\n",
    "# Print results\n",
    "print(da_rmse_dailyRunoff_openloop.squeeze().values, da_rmse_dailyRunoff_ensMean.squeeze().values)\n",
    "print(da_rmse_dailyBaseflow_openloop.squeeze().values, da_rmse_dailyBaseflow_ensMean.squeeze().values)"
   ]
  },
  {
   "cell_type": "code",
   "execution_count": 37,
   "metadata": {},
   "outputs": [
    {
     "name": "stderr",
     "output_type": "stream",
     "text": [
      "/civil/hydro/ymao/anaconda3/envs/da2/lib/python3.5/site-packages/xarray/core/common.py:619: FutureWarning: pd.TimeGrouper is deprecated and will be removed; Please use pd.Grouper(freq=...)\n",
      "  label=label, base=base)\n"
     ]
    },
    {
     "name": "stdout",
     "output_type": "stream",
     "text": [
      "0.04656664338176998 0.04565183382147509\n",
      "0.14475677929943362 0.1414737007937485\n"
     ]
    }
   ],
   "source": [
    "# --- Ensemble-mean RMSE_log --- #\n",
    "# Daily surface runoff - openloop\n",
    "out_nc = os.path.join(output_data_dir, '{}_{}.rmseLog_dailyRunoff.openloop.nc'.format(lat, lon))\n",
    "da_rmseLog_dailyRunoff_openloop = calculate_rmse(\n",
    "    out_nc, ds_truth_cell, ds_openloop_cell,\n",
    "    var='runoff_daily_log')\n",
    "# Daily surface runoff - ensMean\n",
    "out_nc = os.path.join(output_data_dir, '{}_{}.rmseLog_dailyRunoff.ensMean.nc'.format(lat, lon))\n",
    "da_rmseLog_dailyRunoff_ensMean = calculate_rmse(\n",
    "    out_nc, ds_truth_cell, ds_cell_ensMean,\n",
    "    var='runoff_daily_log')\n",
    "# Daily baseflow - openloop\n",
    "out_nc = os.path.join(output_data_dir, '{}_{}.rmseLog_dailyBaseflow.openloop.nc'.format(lat, lon))\n",
    "da_rmseLog_dailyBaseflow_openloop = calculate_rmse(\n",
    "    out_nc, ds_truth_cell, ds_openloop_cell,\n",
    "    var='baseflow_daily_log')\n",
    "# Daily surface baseflow - ensMean\n",
    "out_nc = os.path.join(output_data_dir, '{}_{}.rmseLog_dailyBaseflow.ensMean.nc'.format(lat, lon))\n",
    "da_rmseLog_dailyBaseflow_ensMean = calculate_rmse(\n",
    "    out_nc, ds_truth_cell, ds_cell_ensMean,\n",
    "    var='baseflow_daily_log')\n",
    "# Print results\n",
    "print(da_rmseLog_dailyRunoff_openloop.squeeze().values, da_rmseLog_dailyRunoff_ensMean.squeeze().values)\n",
    "print(da_rmseLog_dailyBaseflow_openloop.squeeze().values, da_rmseLog_dailyBaseflow_ensMean.squeeze().values)"
   ]
  },
  {
   "cell_type": "code",
   "execution_count": 38,
   "metadata": {},
   "outputs": [
    {
     "name": "stderr",
     "output_type": "stream",
     "text": [
      "/civil/hydro/ymao/anaconda3/envs/da2/lib/python3.5/site-packages/xarray/core/common.py:619: FutureWarning: pd.TimeGrouper is deprecated and will be removed; Please use pd.Grouper(freq=...)\n",
      "  label=label, base=base)\n"
     ]
    },
    {
     "name": "stdout",
     "output_type": "stream",
     "text": [
      "0.04656664338176998 0.0468614511189557\n",
      "0.14475677929943362 0.1468301983076355\n"
     ]
    }
   ],
   "source": [
    "##### Test - only 10 state members and 10 prec members --- Ensemble-mean RMSE_log --- #####\n",
    "# Surface runoff\n",
    "out_nc = os.path.join(output_data_dir, '{}_{}.rmseLog_dailyRunoff.ensMean_10state10prec.nc'.format(lat, lon))\n",
    "da_rmseLog_dailyRunoff_ensMean_small = calculate_rmse(\n",
    "    out_nc, ds_truth_cell, ds_cell_ensMean_small,\n",
    "    var='runoff_daily_log')\n",
    "# Baseflow\n",
    "out_nc = os.path.join(output_data_dir, '{}_{}.rmseLog_dailyBaseflow.ensMean_10state10prec.nc'.format(lat, lon))\n",
    "da_rmseLog_dailyBaseflow_ensMean_small = calculate_rmse(\n",
    "    out_nc, ds_truth_cell, ds_cell_ensMean_small,\n",
    "    var='baseflow_daily_log')\n",
    "# Print results\n",
    "print(da_rmseLog_dailyRunoff_openloop.squeeze().values, da_rmseLog_dailyRunoff_ensMean_small.squeeze().values)\n",
    "print(da_rmseLog_dailyBaseflow_openloop.squeeze().values, da_rmseLog_dailyBaseflow_ensMean_small.squeeze().values)"
   ]
  },
  {
   "cell_type": "code",
   "execution_count": null,
   "metadata": {
    "collapsed": true
   },
   "outputs": [],
   "source": []
  },
  {
   "cell_type": "code",
   "execution_count": 39,
   "metadata": {},
   "outputs": [
    {
     "name": "stderr",
     "output_type": "stream",
     "text": [
      "/civil/hydro/ymao/anaconda3/envs/da2/lib/python3.5/site-packages/xarray/core/common.py:619: FutureWarning: pd.TimeGrouper is deprecated and will be removed; Please use pd.Grouper(freq=...)\n",
      "  label=label, base=base)\n"
     ]
    },
    {
     "name": "stdout",
     "output_type": "stream",
     "text": [
      "-0.4613785714413132 -2.950143803153391\n",
      "6.649388534645764 7.254758879286843\n"
     ]
    }
   ],
   "source": [
    "# --- Ensemble-mean percent bias --- #\n",
    "# Daily surface runoff - openloop\n",
    "out_nc = os.path.join(output_data_dir, '{}_{}.pbias_dailyRunoff.openloop.nc'.format(lat, lon))\n",
    "da_pbias_dailyRunoff_openloop = calculate_pbias(\n",
    "    out_nc, ds_truth_cell, ds_openloop_cell,\n",
    "    var='runoff_daily')\n",
    "# Daily surface runoff - ensMean\n",
    "out_nc = os.path.join(output_data_dir, '{}_{}.pbias_dailyRunoff.ensMean.nc'.format(lat, lon))\n",
    "da_pbias_dailyRunoff_ensMean = calculate_pbias(\n",
    "    out_nc, ds_truth_cell, ds_cell_ensMean,\n",
    "    var='runoff_daily')\n",
    "# Daily baseflow - openloop\n",
    "out_nc = os.path.join(output_data_dir, '{}_{}.pbias_dailyBaseflow.openloop.nc'.format(lat, lon))\n",
    "da_pbias_dailyBaseflow_openloop = calculate_pbias(\n",
    "    out_nc, ds_truth_cell, ds_openloop_cell,\n",
    "    var='baseflow_daily')\n",
    "# Daily surface baseflow - ensMean\n",
    "out_nc = os.path.join(output_data_dir, '{}_{}.pbias_dailyBaseflow.ensMean.nc'.format(lat, lon))\n",
    "da_pbias_dailyBaseflow_ensMean = calculate_pbias(\n",
    "    out_nc, ds_truth_cell, ds_cell_ensMean,\n",
    "    var='baseflow_daily')\n",
    "# Print results\n",
    "print(da_pbias_dailyRunoff_openloop.squeeze().values, da_pbias_dailyRunoff_ensMean.squeeze().values)\n",
    "print(da_pbias_dailyBaseflow_openloop.squeeze().values, da_pbias_dailyBaseflow_ensMean.squeeze().values)"
   ]
  },
  {
   "cell_type": "code",
   "execution_count": 42,
   "metadata": {},
   "outputs": [
    {
     "data": {
      "image/png": "[encoded data removed]",
      "text/plain": [
       "<matplotlib.figure.Figure at 0x7f9f4c906e48>"
      ]
     },
     "metadata": {},
     "output_type": "display_data"
    },
    {
     "data": {
      "image/png": "[encoded data removed]",
      "text/plain": [
       "<matplotlib.figure.Figure at 0x7f9f4c0d56d8>"
      ]
     },
     "metadata": {},
     "output_type": "display_data"
    }
   ],
   "source": [
    "# --- Rank histogram (daily) --- #\n",
    "# Surface runoff\n",
    "true_ranks = calculate_rank_for_histogram(\n",
    "    ds_cell_daily['OUT_RUNOFF'], ds_truth_cell_daily['OUT_RUNOFF'].squeeze().to_series())\n",
    "fig = plt.figure()\n",
    "plt.hist(true_ranks, bins=15, normed=True)\n",
    "plt.xlabel('Rank', fontsize=16)\n",
    "plt.ylabel('Fraction', fontsize=16)\n",
    "plt.title('{}_{}, surface runoff'.format(lat, lon))\n",
    "fig.savefig(os.path.join(output_ts_dir, '{}_{}.rankhist.runoff.png'.format(lat, lon)),\n",
    "            format='png', bbox_inches='tight', pad_inches=0)\n",
    "# Baseflow\n",
    "true_ranks = calculate_rank_for_histogram(\n",
    "    ds_cell_daily['OUT_BASEFLOW'], ds_truth_cell_daily['OUT_BASEFLOW'].squeeze().to_series())\n",
    "fig = plt.figure()\n",
    "plt.hist(true_ranks, bins=15, normed=True)\n",
    "plt.xlabel('Rank', fontsize=16)\n",
    "plt.ylabel('Fraction', fontsize=16)\n",
    "plt.title('{}_{}, baseflow'.format(lat, lon))\n",
    "fig.savefig(os.path.join(output_ts_dir, '{}_{}.rankhist.baseflow.png'.format(lat, lon)),\n",
    "            format='png', bbox_inches='tight', pad_inches=0)"
   ]
  },
  {
   "cell_type": "code",
   "execution_count": 25,
   "metadata": {},
   "outputs": [
    {
     "data": {
      "image/png": "[encoded data removed]",
      "text/plain": [
       "<matplotlib.figure.Figure at 0x2b10ef923f60>"
      ]
     },
     "metadata": {},
     "output_type": "display_data"
    },
    {
     "data": {
      "image/png": "[encoded data removed]",
      "text/plain": [
       "<matplotlib.figure.Figure at 0x2b10f88e6ba8>"
      ]
     },
     "metadata": {},
     "output_type": "display_data"
    }
   ],
   "source": [
    "##### Test - only 10 states and 10 prec #####\n",
    "# --- Rank histogram (daily) --- #\n",
    "# Surface runoff\n",
    "true_ranks = calculate_rank_for_histogram(\n",
    "    ds_cell_daily_small['OUT_RUNOFF'], ds_truth_cell_daily['OUT_RUNOFF'].squeeze().to_series())\n",
    "fig = plt.figure()\n",
    "plt.hist(true_ranks, bins=10, normed=True)\n",
    "plt.xlabel('Rank', fontsize=16)\n",
    "plt.ylabel('Fraction', fontsize=16)\n",
    "plt.title('{}_{}, surface runoff'.format(lat, lon))\n",
    "fig.savefig(os.path.join(output_ts_dir, '{}_{}.rankhist.runoff.10state10prec.png'.format(lat, lon)),\n",
    "            format='png', bbox_inches='tight', pad_inches=0)\n",
    "# Baseflow\n",
    "true_ranks = calculate_rank_for_histogram(\n",
    "    ds_cell_daily_small['OUT_BASEFLOW'], ds_truth_cell_daily['OUT_BASEFLOW'].squeeze().to_series())\n",
    "fig = plt.figure()\n",
    "plt.hist(true_ranks, bins=10, normed=True)\n",
    "plt.xlabel('Rank', fontsize=16)\n",
    "plt.ylabel('Fraction', fontsize=16)\n",
    "plt.title('{}_{}, baseflow'.format(lat, lon))\n",
    "fig.savefig(os.path.join(output_ts_dir, '{}_{}.rankhist.baseflow.10state10prec.png'.format(lat, lon)),\n",
    "            format='png', bbox_inches='tight', pad_inches=0)"
   ]
  },
  {
   "cell_type": "code",
   "execution_count": null,
   "metadata": {
    "collapsed": true
   },
   "outputs": [],
   "source": []
  },
  {
   "cell_type": "code",
   "execution_count": null,
   "metadata": {
    "collapsed": true
   },
   "outputs": [],
   "source": []
  },
  {
   "cell_type": "code",
   "execution_count": null,
   "metadata": {
    "collapsed": true
   },
   "outputs": [],
   "source": []
  },
  {
   "cell_type": "code",
   "execution_count": null,
   "metadata": {
    "collapsed": true
   },
   "outputs": [],
   "source": [
    "def calculate_CRPS(da_ens_data, ts_true_data):\n",
    "    ''' Calculate temporal-mean CRPS\n",
    "    '''"
   ]
  },
  {
   "cell_type": "code",
   "execution_count": 41,
   "metadata": {},
   "outputs": [],
   "source": [
    "def calculate_rank_for_histogram(da_ens_data, ts_true_data):\n",
    "    ''' Calculate rank of true value at every time step; this is for the purpose\n",
    "        of plotting rank histogram.\n",
    "    \n",
    "    Parameters\n",
    "    ----------\n",
    "    da_ens_data: <xr.DataArray>\n",
    "        Ensemble time series.\n",
    "        Dimension: time, ensemble\n",
    "    ts_true: <pd.Sereis>\n",
    "        Time series of true (or observed) data\n",
    "    \n",
    "    Return\n",
    "    ----------\n",
    "    true_ranks: <np.array>\n",
    "        An array of ranks (one rank value for each timestep)\n",
    "    '''\n",
    "    \n",
    "    # Put all ensemble members and the truth in a df\n",
    "    df_ens_daily = pd.DataFrame(data=da_ens_data.values,\n",
    "                                index=da_ens_data['time'].values,\n",
    "                                columns=da_ens_data['ensemble'].values)\n",
    "    df_ens_daily['truth'] = ts_true_data.values\n",
    "    # Calculate rank of true value for each timestep\n",
    "    true_ranks = np.asarray([int(int(rankdata(df_ens_daily.loc[t])[-1])) for t in df_ens_daily.index])\n",
    "    \n",
    "    return true_ranks"
   ]
  },
  {
   "cell_type": "code",
   "execution_count": 23,
   "metadata": {},
   "outputs": [
    {
     "data": {
      "text/plain": [
       "'force_ens16.state_ens32'"
      ]
     },
     "execution_count": 23,
     "metadata": {},
     "output_type": "execute_result"
    }
   ],
   "source": []
  },
  {
   "cell_type": "markdown",
   "metadata": {},
   "source": [
    "# Plot time series"
   ]
  },
  {
   "cell_type": "code",
   "execution_count": 43,
   "metadata": {},
   "outputs": [],
   "source": [
    "# ======================================================== #\n",
    "# Plot setting\n",
    "# ======================================================== #\n",
    "cmap = matplotlib.cm.get_cmap('Spectral')"
   ]
  },
  {
   "cell_type": "code",
   "execution_count": 50,
   "metadata": {},
   "outputs": [
    {
     "data": {
      "text/plain": [
       "'/civil/hydro/ymao/data_assim/tools/plot_analyze_results/output/20180331.small_basins.synthetic/arkansas/sm_0.5.R_9.prec_0.3/postprocess/time_series/38.3125_-97.5625.runoffDaily.zoomin.html'"
      ]
     },
     "execution_count": 50,
     "metadata": {},
     "output_type": "execute_result"
    }
   ],
   "source": [
    "# ======================================================== #\n",
    "# Plot surface runoff, daily\n",
    "# ======================================================== #\n",
    "# --- Interactive plot, zoomed in --- #\n",
    "output_file(os.path.join(output_ts_dir, '{}_{}.runoffDaily.zoomin.html'.format(lat, lon)))\n",
    "p = figure(title='Surface runoff, {}, {}'.format(lat, lon),\n",
    "           x_axis_label=\"Time\", y_axis_label=\"Surface runoff (mm/day)\",\n",
    "           x_axis_type='datetime', width=1000, height=500)\n",
    "# post-processed ensemble\n",
    "for key in ds_cell_daily['ensemble'].values:\n",
    "    ts = ds_cell_daily['OUT_RUNOFF'].sel(\n",
    "        ensemble=key,\n",
    "        time=slice(zoomin_start_time, zoomin_end_time)).to_series()\n",
    "    p.line(ts.index, ts.values, color=\"blue\", line_dash=\"solid\", alpha=0.1,\n",
    "           legend=\"DA post-processed ensemble\\n(10-year ens. mean logRMSE={:.2f})\".format(\n",
    "               float(da_rmseLog_dailyRunoff_ensMean.squeeze().values)),\n",
    "           line_width=2)\n",
    "# plot open-loop\n",
    "ts = ds_openloop_cell_daily.squeeze()['OUT_RUNOFF'].sel(time=slice(zoomin_start_time, zoomin_end_time)).to_series()\n",
    "p.line(ts.index, ts.values, color=\"magenta\", line_dash=\"solid\",\n",
    "       legend=\"Open-loop (10-year logRMSE={:.2f})\".format(\n",
    "           float(da_rmseLog_dailyRunoff_openloop.squeeze().values)),\n",
    "       line_width=2)\n",
    "# plot truth\n",
    "ts = ds_truth_cell_daily.squeeze()['OUT_RUNOFF'].sel(time=slice(zoomin_start_time, zoomin_end_time)).to_series()\n",
    "p.line(ts.index, ts.values, color=\"black\", line_dash=\"solid\",\n",
    "       legend=\"Truth\", line_width=2)\n",
    "# Save\n",
    "save(p)"
   ]
  },
  {
   "cell_type": "code",
   "execution_count": 45,
   "metadata": {},
   "outputs": [
    {
     "data": {
      "text/plain": [
       "'/civil/hydro/ymao/data_assim/tools/plot_analyze_results/output/20180331.small_basins.synthetic/arkansas/sm_0.5.R_9.prec_0.3/postprocess/time_series/38.3125_-97.5625.runoffDaily.zoomin.colored_each_prec.html'"
      ]
     },
     "execution_count": 45,
     "metadata": {},
     "output_type": "execute_result"
    }
   ],
   "source": [
    "# --- Interactive plot, zoomed in, different color for each precip ensemble member --- #\n",
    "list_color = [cmap(i/N_prec) for i in range(N_prec)]\n",
    "output_file(os.path.join(output_ts_dir, '{}_{}.runoffDaily.zoomin.colored_each_prec.html'.format(lat, lon)))\n",
    "p = figure(title='Surface runoff, {}, {}'.format(lat, lon),\n",
    "           x_axis_label=\"Time\", y_axis_label=\"Surface runoff (mm/day)\",\n",
    "           x_axis_type='datetime', width=1000, height=500)\n",
    "# plot open-loop\n",
    "ts = ds_openloop_cell_daily.squeeze()['OUT_RUNOFF'].sel(time=slice(zoomin_start_time, zoomin_end_time)).to_series()\n",
    "p.line(ts.index, ts.values, color=\"magenta\", line_dash=\"solid\",\n",
    "       legend=\"Open-loop\", line_width=3)\n",
    "# plot truth\n",
    "ts = ds_truth_cell_daily.squeeze()['OUT_RUNOFF'].sel(time=slice(zoomin_start_time, zoomin_end_time)).to_series()\n",
    "p.line(ts.index, ts.values, color=\"black\", line_dash=\"solid\",\n",
    "       legend=\"Truth\", line_width=3)\n",
    "# post-processed ensemble\n",
    "dict_cell_ts_runoff = {}\n",
    "for i in range(N_prec):\n",
    "    for j in range(N_state):\n",
    "        key = 'force_ens{}.state_ens{}'.format(i+1, j+1)\n",
    "        ts = ds_cell_daily['OUT_RUNOFF'].sel(\n",
    "            ensemble=key,\n",
    "            time=slice(zoomin_start_time, zoomin_end_time)).to_series()\n",
    "        p.line(ts.index, ts.values,\n",
    "               color=\"#%02x%02x%02x\" % (int(list_color[i][0]*255),\n",
    "                                        int(list_color[i][1]*255),\n",
    "                                        int(list_color[i][2]*255)),\n",
    "               line_dash=\"solid\", alpha=0.1,\n",
    "               legend=\"DA post-processed ensemble\", line_width=2)\n",
    "# Save\n",
    "save(p)"
   ]
  },
  {
   "cell_type": "code",
   "execution_count": 46,
   "metadata": {},
   "outputs": [
    {
     "data": {
      "text/plain": [
       "'/civil/hydro/ymao/data_assim/tools/plot_analyze_results/output/20180331.small_basins.synthetic/arkansas/sm_0.5.R_9.prec_0.3/postprocess/time_series/38.3125_-97.5625.runoffDaily.zoomin.colored_each_state.html'"
      ]
     },
     "execution_count": 46,
     "metadata": {},
     "output_type": "execute_result"
    }
   ],
   "source": [
    "# --- Interactive plot, zoomed in, different color for each state ensemble member --- #\n",
    "list_color = [cmap(i/N_state) for i in range(N_state)]\n",
    "output_file(os.path.join(output_ts_dir, '{}_{}.runoffDaily.zoomin.colored_each_state.html'.format(lat, lon)))\n",
    "p = figure(title='Surface runoff, {}, {}'.format(lat, lon),\n",
    "           x_axis_label=\"Time\", y_axis_label=\"Surface runoff (mm/day)\",\n",
    "           x_axis_type='datetime', width=1000, height=500)\n",
    "# plot open-loop\n",
    "ts = ds_openloop_cell_daily.squeeze()['OUT_RUNOFF'].sel(time=slice(zoomin_start_time, zoomin_end_time)).to_series()\n",
    "p.line(ts.index, ts.values, color=\"magenta\", line_dash=\"solid\",\n",
    "       legend=\"Open-loop\", line_width=3)\n",
    "# plot truth\n",
    "ts = ds_truth_cell_daily.squeeze()['OUT_RUNOFF'].sel(time=slice(zoomin_start_time, zoomin_end_time)).to_series()\n",
    "p.line(ts.index, ts.values, color=\"black\", line_dash=\"solid\",\n",
    "       legend=\"Truth\", line_width=3)\n",
    "# post-processed ensemble\n",
    "dict_cell_ts_runoff = {}\n",
    "for i in range(N_prec):\n",
    "    for j in range(N_state):\n",
    "        key = 'force_ens{}.state_ens{}'.format(i+1, j+1)\n",
    "        ts = ds_cell_daily['OUT_RUNOFF'].sel(\n",
    "            ensemble=key,\n",
    "            time=slice(zoomin_start_time, zoomin_end_time)).to_series()\n",
    "        p.line(ts.index, ts.values,\n",
    "               color=\"#%02x%02x%02x\" % (int(list_color[j][0]*255),\n",
    "                                        int(list_color[j][1]*255),\n",
    "                                        int(list_color[j][2]*255)),\n",
    "               line_dash=\"solid\", alpha=0.1,\n",
    "               legend=\"DA post-processed ensemble\", line_width=2)\n",
    "# Save\n",
    "save(p)"
   ]
  },
  {
   "cell_type": "code",
   "execution_count": 51,
   "metadata": {},
   "outputs": [
    {
     "data": {
      "text/plain": [
       "'/civil/hydro/ymao/data_assim/tools/plot_analyze_results/output/20180331.small_basins.synthetic/arkansas/sm_0.5.R_9.prec_0.3/postprocess/time_series/38.3125_-97.5625.baseflowDaily.zoomin.html'"
      ]
     },
     "execution_count": 51,
     "metadata": {},
     "output_type": "execute_result"
    }
   ],
   "source": [
    "# ======================================================== #\n",
    "# Plot baseflow\n",
    "# ======================================================== #\n",
    "# --- Interactive plot, zoomed in --- #\n",
    "output_file(os.path.join(output_ts_dir, '{}_{}.baseflowDaily.zoomin.html'.format(lat, lon)))\n",
    "p = figure(title='Baseflow, {}, {}'.format(lat, lon),\n",
    "           x_axis_label=\"Time\", y_axis_label=\"Baseflow (mm/day)\",\n",
    "           x_axis_type='datetime', width=1000, height=500)\n",
    "# post-processed ensemble\n",
    "dict_cell_ts_runoff = {}\n",
    "for key in ds_cell_daily['ensemble'].values:\n",
    "    ts = ds_cell_daily['OUT_BASEFLOW'].sel(\n",
    "        ensemble=key,\n",
    "        time=slice(zoomin_start_time, zoomin_end_time)).to_series()\n",
    "    p.line(ts.index, ts.values, color=\"blue\", line_dash=\"solid\", alpha=0.1,\n",
    "           legend=\"DA post-processed ensemble (10-year ens. mean logRMSE={:.2f})\".format(\n",
    "               float(da_rmseLog_dailyBaseflow_ensMean.squeeze().values)),\n",
    "           line_width=2)\n",
    "# plot open-loop\n",
    "ts = ds_openloop_cell_daily.squeeze()['OUT_BASEFLOW'].sel(time=slice(zoomin_start_time, zoomin_end_time)).to_series()\n",
    "p.line(ts.index, ts.values, color=\"magenta\", line_dash=\"solid\",\n",
    "       legend=\"Open-loop (10-year logRMSE={:.2f})\".format(\n",
    "           float(da_rmseLog_dailyBaseflow_openloop.squeeze().values)),\n",
    "       line_width=2)\n",
    "# plot truth\n",
    "ts = ds_truth_cell_daily.squeeze()['OUT_BASEFLOW'].sel(time=slice(zoomin_start_time, zoomin_end_time)).to_series()\n",
    "p.line(ts.index, ts.values, color=\"black\", line_dash=\"solid\",\n",
    "       legend=\"Truth\", line_width=2)\n",
    "# Save\n",
    "save(p)"
   ]
  },
  {
   "cell_type": "code",
   "execution_count": 48,
   "metadata": {},
   "outputs": [
    {
     "data": {
      "text/plain": [
       "'/civil/hydro/ymao/data_assim/tools/plot_analyze_results/output/20180331.small_basins.synthetic/arkansas/sm_0.5.R_9.prec_0.3/postprocess/time_series/38.3125_-97.5625.baseflowDaily.zoomin.colored_each_prec.html'"
      ]
     },
     "execution_count": 48,
     "metadata": {},
     "output_type": "execute_result"
    }
   ],
   "source": [
    "# --- Interactive plot, zoomed in, different color for each precip ensemble member --- #\n",
    "list_color = [cmap(i/N_prec) for i in range(N_prec)]\n",
    "output_file(os.path.join(output_ts_dir, '{}_{}.baseflowDaily.zoomin.colored_each_prec.html'.format(lat, lon)))\n",
    "p = figure(title='Surface runoff, {}, {}'.format(lat, lon),\n",
    "           x_axis_label=\"Time\", y_axis_label=\"Baseflow (mm/day)\",\n",
    "           x_axis_type='datetime', width=1000, height=500)\n",
    "# plot open-loop\n",
    "ts = ds_openloop_cell_daily.squeeze()['OUT_BASEFLOW'].sel(time=slice(zoomin_start_time, zoomin_end_time)).to_series()\n",
    "p.line(ts.index, ts.values, color=\"magenta\", line_dash=\"solid\",\n",
    "       legend=\"Open-loop\", line_width=3)\n",
    "# plot truth\n",
    "ts = ds_truth_cell_daily.squeeze()['OUT_BASEFLOW'].sel(time=slice(zoomin_start_time, zoomin_end_time)).to_series()\n",
    "p.line(ts.index, ts.values, color=\"black\", line_dash=\"solid\",\n",
    "       legend=\"Truth\", line_width=3)\n",
    "# post-processed ensemble\n",
    "dict_cell_ts_runoff = {}\n",
    "for i in range(N_prec):\n",
    "    for j in range(N_state):\n",
    "        key = 'force_ens{}.state_ens{}'.format(i+1, j+1)\n",
    "        ts = ds_cell_daily['OUT_BASEFLOW'].sel(\n",
    "            ensemble=key,\n",
    "            time=slice(zoomin_start_time, zoomin_end_time)).to_series()\n",
    "        p.line(ts.index, ts.values,\n",
    "               color=\"#%02x%02x%02x\" % (int(list_color[i][0]*255),\n",
    "                                        int(list_color[i][1]*255),\n",
    "                                        int(list_color[i][2]*255)),\n",
    "               line_dash=\"solid\", alpha=0.1,\n",
    "               legend=\"DA post-processed ensemble\", line_width=2)\n",
    "# Save\n",
    "save(p)"
   ]
  },
  {
   "cell_type": "code",
   "execution_count": 49,
   "metadata": {},
   "outputs": [
    {
     "data": {
      "text/plain": [
       "'/civil/hydro/ymao/data_assim/tools/plot_analyze_results/output/20180331.small_basins.synthetic/arkansas/sm_0.5.R_9.prec_0.3/postprocess/time_series/38.3125_-97.5625.baseflowDaily.zoomin.colored_each_state.html'"
      ]
     },
     "execution_count": 49,
     "metadata": {},
     "output_type": "execute_result"
    }
   ],
   "source": [
    "# --- Interactive plot, zoomed in, different color for each state ensemble member --- #\n",
    "list_color = [cmap(i/N_state) for i in range(N_state)]\n",
    "output_file(os.path.join(output_ts_dir, '{}_{}.baseflowDaily.zoomin.colored_each_state.html'.format(lat, lon)))\n",
    "p = figure(title='Surface runoff, {}, {}'.format(lat, lon),\n",
    "           x_axis_label=\"Time\", y_axis_label=\"Baseflow (mm/day)\",\n",
    "           x_axis_type='datetime', width=1000, height=500)\n",
    "# plot open-loop\n",
    "ts = ds_openloop_cell_daily.squeeze()['OUT_BASEFLOW'].sel(time=slice(zoomin_start_time, zoomin_end_time)).to_series()\n",
    "p.line(ts.index, ts.values, color=\"magenta\", line_dash=\"solid\",\n",
    "       legend=\"Open-loop\", line_width=3)\n",
    "# plot truth\n",
    "ts = ds_truth_cell_daily.squeeze()['OUT_BASEFLOW'].sel(time=slice(zoomin_start_time, zoomin_end_time)).to_series()\n",
    "p.line(ts.index, ts.values, color=\"black\", line_dash=\"solid\",\n",
    "       legend=\"Truth\", line_width=3)\n",
    "# post-processed ensemble\n",
    "dict_cell_ts_runoff = {}\n",
    "for i in range(N_prec):\n",
    "    for j in range(N_state):\n",
    "        key = 'force_ens{}.state_ens{}'.format(i+1, j+1)\n",
    "        ts = ds_cell_daily['OUT_BASEFLOW'].sel(\n",
    "            ensemble=key,\n",
    "            time=slice(zoomin_start_time, zoomin_end_time)).to_series()\n",
    "        p.line(ts.index, ts.values,\n",
    "               color=\"#%02x%02x%02x\" % (int(list_color[j][0]*255),\n",
    "                                        int(list_color[j][1]*255),\n",
    "                                        int(list_color[j][2]*255)),\n",
    "               line_dash=\"solid\", alpha=0.1,\n",
    "               legend=\"DA post-processed ensemble\", line_width=2)\n",
    "# Save\n",
    "save(p)"
   ]
  },
  {
   "cell_type": "code",
   "execution_count": null,
   "metadata": {},
   "outputs": [],
   "source": []
  }
 ],
 "metadata": {
  "kernelspec": {
   "display_name": "Python 3",
   "language": "python",
   "name": "python3"
  },
  "language_info": {
   "codemirror_mode": {
    "name": "ipython",
    "version": 3
   },
   "file_extension": ".py",
   "mimetype": "text/x-python",
   "name": "python",
   "nbconvert_exporter": "python",
   "pygments_lexer": "ipython3",
   "version": "3.5.5"
  }
 },
 "nbformat": 4,
 "nbformat_minor": 2
}
