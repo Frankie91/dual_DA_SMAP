{
 "cells": [
  {
   "cell_type": "code",
   "execution_count": 1,
   "metadata": {},
   "outputs": [],
   "source": [
    "%matplotlib inline\n",
    "\n",
    "import xarray as xr"
   ]
  },
  {
   "cell_type": "code",
   "execution_count": 9,
   "metadata": {},
   "outputs": [],
   "source": [
    "# ================================================ #\n",
    "# Parameters\n",
    "# ================================================ #\n",
    "flowdir_nc = '/civil/hydro/ymao/data_assim/tools/prepare_RVIC_param/output/ArkRed.AndyWood/flowdir.ArkRed.nc'\n",
    "xmask_nc = '/civil/hydro/ymao/data_assim/tools/prepare_RVIC_param/output/ArkRed.AndyWood/xmask.ArkRed.nc'\n",
    "\n",
    "out_rout_param_nc = '/civil/hydro/ymao/data_assim/tools/prepare_RVIC_param/output/ArkRed.AndyWood/route_param.ArkRed.nc'"
   ]
  },
  {
   "cell_type": "code",
   "execution_count": 10,
   "metadata": {},
   "outputs": [],
   "source": [
    "# ================================================ #\n",
    "# Generate RVIC route parameter netCDF file\n",
    "# ================================================ #\n",
    "# --- Load nc --- #\n",
    "da_flowdir = xr.open_dataset(flowdir_nc)['Band1']\n",
    "da_flowdis = xr.open_dataset(xmask_nc)['Band1']\n",
    "\n",
    "# --- Process --- #\n",
    "da_basinID = da_flowdir.copy(deep=True)\n",
    "da_basinID[:] = 1\n",
    "\n",
    "# --- Output --- #\n",
    "ds_rout_param = xr.Dataset(\n",
    "    {'Flow_Direction': da_flowdir,\n",
    "     'Basin_ID': da_basinID,\n",
    "     'Flow_Distance': da_flowdis})\n",
    "ds_rout_param.to_netcdf(out_rout_param_nc, format='NETCDF4_CLASSIC')"
   ]
  }
 ],
 "metadata": {
  "kernelspec": {
   "display_name": "Python 3",
   "language": "python",
   "name": "python3"
  },
  "language_info": {
   "codemirror_mode": {
    "name": "ipython",
    "version": 3
   },
   "file_extension": ".py",
   "mimetype": "text/x-python",
   "name": "python",
   "nbconvert_exporter": "python",
   "pygments_lexer": "ipython3",
   "version": "3.5.5"
  }
 },
 "nbformat": 4,
 "nbformat_minor": 2
}
